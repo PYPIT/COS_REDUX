{
 "cells": [
  {
   "cell_type": "markdown",
   "metadata": {},
   "source": [
    "# Coadd script"
   ]
  },
  {
   "cell_type": "code",
   "execution_count": 39,
   "metadata": {
    "collapsed": true
   },
   "outputs": [],
   "source": [
    "# imports\n",
    "import glob\n",
    "import pdb\n",
    "\n",
    "from astropy.table import Table, vstack\n",
    "\n",
    "from xastropy.xutils import xdebug as xdb"
   ]
  },
  {
   "cell_type": "markdown",
   "metadata": {},
   "source": [
    "## Testing"
   ]
  },
  {
   "cell_type": "code",
   "execution_count": 4,
   "metadata": {
    "collapsed": true
   },
   "outputs": [],
   "source": [
    "x1d_path = os.getenv('DROPBOX_DIR')+'/COS-LRG/tmp/'"
   ]
  },
  {
   "cell_type": "code",
   "execution_count": 6,
   "metadata": {
    "collapsed": true
   },
   "outputs": [],
   "source": [
    "x1d_files = glob.glob(x1d_path+'*x1d.fits')"
   ]
  },
  {
   "cell_type": "markdown",
   "metadata": {},
   "source": [
    "### Check an x1d file"
   ]
  },
  {
   "cell_type": "code",
   "execution_count": 9,
   "metadata": {
    "collapsed": false
   },
   "outputs": [
    {
     "name": "stderr",
     "output_type": "stream",
     "text": [
      "WARNING: UnitsWarning: The unit 'angstrom' has been deprecated in the FITS standard. Suggested: 10**-1 nm. [astropy.units.format.utils]\n",
      "WARNING: UnitsWarning: The unit 'erg' has been deprecated in the FITS standard. Suggested: cm2 g s-2. [astropy.units.format.utils]\n",
      "WARNING: UnitsWarning: 'erg /s /cm**2 /angstrom' contains multiple slashes, which is discouraged by the FITS standard [astropy.units.format.generic]\n"
     ]
    }
   ],
   "source": [
    "tbl = Table.read(x1d_files[0])"
   ]
  },
  {
   "cell_type": "code",
   "execution_count": 15,
   "metadata": {
    "collapsed": false
   },
   "outputs": [
    {
     "data": {
      "text/html": [
       "&lt;Table length=1&gt;\n",
       "<table id=\"table4572632464\" class=\"table-striped table-bordered table-condensed\">\n",
       "<thead><tr><th>SEGMENT</th><th>EXPTIME</th><th>NELEM</th><th>WAVELENGTH [16384]</th><th>FLUX [16384]</th><th>ERROR [16384]</th><th>GROSS [16384]</th><th>GCOUNTS [16384]</th><th>NET [16384]</th><th>BACKGROUND [16384]</th><th>DQ [16384]</th><th>DQ_WGT [16384]</th></tr></thead>\n",
       "<thead><tr><th></th><th>s</th><th></th><th>Angstrom</th><th>erg / (Angstrom cm2 s)</th><th>erg / (Angstrom cm2 s)</th><th>ct / s</th><th>ct</th><th>ct / s</th><th>ct / s</th><th></th><th></th></tr></thead>\n",
       "<thead><tr><th>str4</th><th>float64</th><th>int32</th><th>float64</th><th>float32</th><th>float32</th><th>float32</th><th>float32</th><th>float32</th><th>float32</th><th>int16</th><th>float32</th></tr></thead>\n",
       "<tr><td>FUVA</td><td>1128.192</td><td>16384</td><td>1185.08305117 .. 2496.14189625</td><td>0.0 .. 0.0</td><td>2.04881e-16 .. 6.06116e-17</td><td>0.0 .. 0.0</td><td>0.0 .. 0.0</td><td>0.0 .. 0.0</td><td>0.0 .. 0.0</td><td>128 .. 128</td><td>0.0 .. 0.0</td></tr>\n",
       "</table>"
      ],
      "text/plain": [
       "<Table length=1>\n",
       "SEGMENT EXPTIME  NELEM ... BACKGROUND [16384] DQ [16384] DQ_WGT [16384]\n",
       "           s           ...       ct / s                                \n",
       "  str4  float64  int32 ...      float32         int16       float32    \n",
       "------- -------- ----- ... ------------------ ---------- --------------\n",
       "   FUVA 1128.192 16384 ...         0.0 .. 0.0 128 .. 128     0.0 .. 0.0"
      ]
     },
     "execution_count": 15,
     "metadata": {},
     "output_type": "execute_result"
    }
   ],
   "source": [
    "tbl[0:1]"
   ]
  },
  {
   "cell_type": "markdown",
   "metadata": {},
   "source": [
    "### Segment A"
   ]
  },
  {
   "cell_type": "code",
   "execution_count": 20,
   "metadata": {
    "collapsed": false
   },
   "outputs": [],
   "source": [
    "# Load\n",
    "sega_tbls = []\n",
    "for x1d_file in x1d_files:\n",
    "    tbl = Table.read(x1d_file)\n",
    "    sega_tbls.append(tbl[0:1])"
   ]
  },
  {
   "cell_type": "code",
   "execution_count": 31,
   "metadata": {
    "collapsed": false
   },
   "outputs": [
    {
     "data": {
      "text/plain": [
       "array([ 1185.08305117,  1185.16248733,  1185.24192356,  1185.32135985,\n",
       "        1185.40079622])"
      ]
     },
     "execution_count": 31,
     "metadata": {},
     "output_type": "execute_result"
    }
   ],
   "source": [
    "# Grab one wavelength array\n",
    "wave = sega_tbls[0]['WAVELENGTH'][0,:].data\n",
    "wave[0:5]"
   ]
  },
  {
   "cell_type": "code",
   "execution_count": 37,
   "metadata": {
    "collapsed": false
   },
   "outputs": [],
   "source": [
    "# Sum exposure time\n",
    "total_time = np.zeros_like(wave)\n",
    "for sega_tbl in sega_tbls:\n",
    "    total_time += sega_tbl['DQ_WGT'][0,:]*sega_tbl['EXPTIME']\n",
    "#xdb.xhist(total_time)"
   ]
  },
  {
   "cell_type": "code",
   "execution_count": 42,
   "metadata": {
    "collapsed": false
   },
   "outputs": [],
   "source": [
    "# Find DQmin for all exposures -- Why are we doing this step??\n",
    "dqmin = np.ones_like(wave).astype(int) * 99999\n",
    "for sega_tbl in sega_tbls:\n",
    "    # Reset DQ\n",
    "    dq = sega_tbl['DQ'][0,:].data\n",
    "    reset_1024 = dq == 1024\n",
    "    dq[reset_1024] = 2\n",
    "    dqmin = np.minimum(dq, dqmin)"
   ]
  },
  {
   "cell_type": "code",
   "execution_count": 52,
   "metadata": {
    "collapsed": false
   },
   "outputs": [],
   "source": [
    "# Find DQ_WGT max for all exposures\n",
    "DQWmax = np.zeros_like(wave)\n",
    "for sega_tbl in sega_tbls:\n",
    "    # Reset DQ\n",
    "    dqw = sega_tbl['DQ_WGT'][0,:].data\n",
    "    DQWmax = np.maximum(dqw, DQWmax)\n",
    "#xdb.xhist(dqwmax)"
   ]
  },
  {
   "cell_type": "code",
   "execution_count": 55,
   "metadata": {
    "collapsed": false
   },
   "outputs": [],
   "source": [
    "# Total Counts\n",
    "total_counts = np.zeros_like(wave)\n",
    "for sega_tbl in sega_tbls:\n",
    "    # \n",
    "    total_counts += DQWmax * sega_tbl['GCOUNTS'][0,:]\n",
    "xdb.xhist(total_counts)"
   ]
  },
  {
   "cell_type": "code",
   "execution_count": 54,
   "metadata": {
    "collapsed": true
   },
   "outputs": [],
   "source": [
    "# Calib"
   ]
  },
  {
   "cell_type": "code",
   "execution_count": 56,
   "metadata": {
    "collapsed": true
   },
   "outputs": [],
   "source": [
    "xdb.xplot(wave, total_counts)"
   ]
  },
  {
   "cell_type": "code",
   "execution_count": null,
   "metadata": {
    "collapsed": true
   },
   "outputs": [],
   "source": []
  }
 ],
 "metadata": {
  "kernelspec": {
   "display_name": "Python 2",
   "language": "python",
   "name": "python2"
  },
  "language_info": {
   "codemirror_mode": {
    "name": "ipython",
    "version": 2
   },
   "file_extension": ".py",
   "mimetype": "text/x-python",
   "name": "python",
   "nbconvert_exporter": "python",
   "pygments_lexer": "ipython2",
   "version": "2.7.11"
  }
 },
 "nbformat": 4,
 "nbformat_minor": 0
}
