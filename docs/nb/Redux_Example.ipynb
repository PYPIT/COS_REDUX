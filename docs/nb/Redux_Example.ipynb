{
 "cells": [
  {
   "cell_type": "markdown",
   "metadata": {},
   "source": [
    "# Work through the reduction of a single dataset"
   ]
  },
  {
   "cell_type": "code",
   "execution_count": 1,
   "metadata": {
    "collapsed": false
   },
   "outputs": [],
   "source": [
    "# imports\n",
    "import os\n",
    "import glob\n",
    "import pdb\n",
    "#from imp import reload\n",
    "#from importlib import reload\n",
    "\n",
    "from astropy.io import fits\n",
    "\n",
    "from cosredux import utils as cr_utils\n",
    "from cosredux import trace as cr_trace\n",
    "from cosredux import darks as cr_darks\n",
    "from cosredux import io as cr_io\n",
    "from cosredux import science as cr_science"
   ]
  },
  {
   "cell_type": "code",
   "execution_count": null,
   "metadata": {
    "collapsed": true
   },
   "outputs": [],
   "source": [
    "# python setup.py develop"
   ]
  },
  {
   "cell_type": "markdown",
   "metadata": {},
   "source": [
    "## Setup files\n",
    "    Copy files from Dropbox to local, working folder\n",
    "    cd 'working_folder'\n",
    "    # Darks, if needed\n",
    "    cp -rp ~/Dropbox/COS-LRG/darksall .\n",
    "    # Calibs, as needed\n",
    "    cp -rp ~/Dropbox/COS-LRG/calibfilesmast .\n",
    "    # Subset of the raw and object calibration files\n",
    "    mkdir LCYA01010\n",
    "    cd LCYA01010\n",
    "    cp -rp ~/Dropbox/COS-LRG/LCYA01010/*rawtag* .\n",
    "    cp -rp ~/Dropbox/COS-LRG/LCYA01010/lcya01010_asn.fits .\n",
    "    cp -rp ~/Dropbox/COS-LRG/LCYA01010/lcya01010_trl.fits .\n",
    "    cp -rp ~/Dropbox/COS-LRG/LCYA01010/lcya01010_j*.fits ."
   ]
  },
  {
   "cell_type": "code",
   "execution_count": 2,
   "metadata": {
    "collapsed": true
   },
   "outputs": [],
   "source": [
    "rdx_path = '/Users/xavier/HST/COS/LRG_Redux/'\n",
    "#rdx_path = '/home/marijana/ReductionCOS/'\n",
    "science_folder = 'LCYA01010/'\n",
    "dark_folder = 'darksall/'\n",
    "#calib_folder = 'calibfilesmast/'\n",
    "calib_folder = 'calibs/'\n",
    "root_out = 'lcya01010'"
   ]
  },
  {
   "cell_type": "code",
   "execution_count": 3,
   "metadata": {
    "collapsed": true
   },
   "outputs": [],
   "source": [
    "# Default values\n",
    "defaults = {}\n",
    "defaults['pha_mnx'] = (2,15)\n",
    "defaults['apert'] = 25."
   ]
  },
  {
   "cell_type": "markdown",
   "metadata": {},
   "source": [
    "## Customize for calcos\n",
    "    Science frames\n",
    "    LP2 calib file"
   ]
  },
  {
   "cell_type": "markdown",
   "metadata": {},
   "source": [
    "### Science frames"
   ]
  },
  {
   "cell_type": "code",
   "execution_count": 3,
   "metadata": {
    "collapsed": false
   },
   "outputs": [
    {
     "name": "stdout",
     "output_type": "stream",
     "text": [
      "Modifying header cards for rawtag file: /home/marijana/ReductionCOS/LCYA01010/lcya01ggq_rawtag_a.fits\n",
      "Modifying header cards for rawtag file: /home/marijana/ReductionCOS/LCYA01010/lcya01fyq_rawtag_a.fits\n",
      "Modifying header cards for rawtag file: /home/marijana/ReductionCOS/LCYA01010/lcya01ggq_rawtag_b.fits\n",
      "Modifying header cards for rawtag file: /home/marijana/ReductionCOS/LCYA01010/lcya01g0q_rawtag_b.fits\n",
      "Modifying header cards for rawtag file: /home/marijana/ReductionCOS/LCYA01010/lcya01gjq_rawtag_a.fits\n",
      "Modifying header cards for rawtag file: /home/marijana/ReductionCOS/LCYA01010/lcya01fyq_rawtag_b.fits\n",
      "Modifying header cards for rawtag file: /home/marijana/ReductionCOS/LCYA01010/lcya01gjq_rawtag_b.fits\n",
      "Modifying header cards for rawtag file: /home/marijana/ReductionCOS/LCYA01010/lcya01g0q_rawtag_a.fits\n"
     ]
    }
   ],
   "source": [
    "cr_utils.modify_rawtag_for_calcos(rdx_path+science_folder)"
   ]
  },
  {
   "cell_type": "markdown",
   "metadata": {},
   "source": [
    "### Calibs -- May not need to repeat this (i.e. if done before)"
   ]
  },
  {
   "cell_type": "code",
   "execution_count": 4,
   "metadata": {
    "collapsed": false
   },
   "outputs": [
    {
     "name": "stderr",
     "output_type": "stream",
     "text": [
      "WARNING: UnitsWarning: The unit 'angstrom' has been deprecated in the FITS standard. Suggested: 10**-1 nm. [astropy.units.format.utils]\n"
     ]
    }
   ],
   "source": [
    "cr_utils.modify_LP2_1dx_calib(rdx_path+calib_folder)"
   ]
  },
  {
   "cell_type": "markdown",
   "metadata": {},
   "source": [
    "----"
   ]
  },
  {
   "cell_type": "markdown",
   "metadata": {},
   "source": [
    "## Run calcos"
   ]
  },
  {
   "cell_type": "markdown",
   "metadata": {
    "collapsed": true
   },
   "source": [
    "### Launch pyraf\n",
    "    cd ureka\n",
    "    xgterm (or xterm)\n",
    "    export lref=/home/marijana/ReductionCOS/calibfilesmast/\n",
    "    # Working in xgterm window\n",
    "    ur_setup\n",
    "    mkiraf #?\n",
    "    pyraf"
   ]
  },
  {
   "cell_type": "markdown",
   "metadata": {},
   "source": [
    "### Execute\n",
    "    cd folder_with_data  (e.g. LCYA01010)\n",
    "    stsdas\n",
    "    hst_calib\n",
    "    hstcos\n",
    "    #\n",
    "    calcos [dataset prefix]_asn.fits (e.g. calcos lcya01010_asn.fits)"
   ]
  },
  {
   "cell_type": "markdown",
   "metadata": {
    "collapsed": true
   },
   "source": [
    "#### Crashing and rerunning\n",
    "    If you have to rerun, remove the corrtag and .tra files"
   ]
  },
  {
   "cell_type": "markdown",
   "metadata": {},
   "source": [
    "----"
   ]
  },
  {
   "cell_type": "markdown",
   "metadata": {},
   "source": [
    "## Coadd corrtag files"
   ]
  },
  {
   "cell_type": "code",
   "execution_count": 3,
   "metadata": {
    "collapsed": false
   },
   "outputs": [],
   "source": [
    "corrtag_files_a = glob.glob(rdx_path+science_folder + '*_corrtag_a.fits')\n",
    "corrtag_files_b = glob.glob(rdx_path+science_folder + '*_corrtag_b.fits')"
   ]
  },
  {
   "cell_type": "code",
   "execution_count": 4,
   "metadata": {
    "collapsed": false
   },
   "outputs": [
    {
     "data": {
      "text/plain": [
       "['/Users/xavier/HST/COS/LRG_Redux/LCYA01010/lcya01fyq_corrtag_a.fits',\n",
       " '/Users/xavier/HST/COS/LRG_Redux/LCYA01010/lcya01g0q_corrtag_a.fits',\n",
       " '/Users/xavier/HST/COS/LRG_Redux/LCYA01010/lcya01ggq_corrtag_a.fits',\n",
       " '/Users/xavier/HST/COS/LRG_Redux/LCYA01010/lcya01gjq_corrtag_a.fits']"
      ]
     },
     "execution_count": 4,
     "metadata": {},
     "output_type": "execute_result"
    }
   ],
   "source": [
    "corrtag_files_a"
   ]
  },
  {
   "cell_type": "code",
   "execution_count": 24,
   "metadata": {
    "collapsed": false
   },
   "outputs": [
    {
     "name": "stdout",
     "output_type": "stream",
     "text": [
      "Wrote outfile /Users/xavier/HST/COS/LRG_Redux/LCYA01010/lcya01010_coaddcorr_woPHA_a.fits\n",
      "Wrote outfile /Users/xavier/HST/COS/LRG_Redux/LCYA01010/lcya01010_coaddcorr_woPHA_b.fits\n"
     ]
    }
   ],
   "source": [
    "_ = cr_utils.coadd_bintables(corrtag_files_a, outfile=rdx_path+science_folder+root_out+'_coaddcorr_woPHA_a.fits')\n",
    "_ = cr_utils.coadd_bintables(corrtag_files_b, outfile=rdx_path+science_folder+root_out+'_coaddcorr_woPHA_b.fits')"
   ]
  },
  {
   "cell_type": "markdown",
   "metadata": {},
   "source": [
    "## Traces"
   ]
  },
  {
   "cell_type": "code",
   "execution_count": 25,
   "metadata": {
    "collapsed": false
   },
   "outputs": [
    {
     "name": "stdout",
     "output_type": "stream",
     "text": [
      "Updated trace for segment=FUVA in /Users/xavier/HST/COS/LRG_Redux/calibs/x6q17586l_1dx.fits\n",
      "Wrote Traces to {:s} /Users/xavier/HST/COS/LRG_Redux/LCYA01010/lcya01010_coaddcorr_woPHA_a_traces.json\n",
      "Updated trace for segment=FUVB in /Users/xavier/HST/COS/LRG_Redux/calibs/x6q17586l_1dx.fits\n",
      "Wrote Traces to {:s} /Users/xavier/HST/COS/LRG_Redux/LCYA01010/lcya01010_coaddcorr_woPHA_b_traces.json\n"
     ]
    }
   ],
   "source": [
    "reload(cr_trace)\n",
    "traces_a=cr_trace.traces(rdx_path+science_folder+root_out+'_coaddcorr_woPHA_a.fits', rdx_path+calib_folder, 'FUVA', clobber=True)\n",
    "traces_b=cr_trace.traces(rdx_path+science_folder+root_out+'_coaddcorr_woPHA_b.fits', rdx_path+calib_folder, 'FUVB', clobber=True)"
   ]
  },
  {
   "cell_type": "markdown",
   "metadata": {
    "collapsed": true
   },
   "source": [
    "## Ignoring Sun and Limb"
   ]
  },
  {
   "cell_type": "markdown",
   "metadata": {},
   "source": [
    "## Get HVLEVELs"
   ]
  },
  {
   "cell_type": "code",
   "execution_count": 18,
   "metadata": {
    "collapsed": false
   },
   "outputs": [
    {
     "name": "stdout",
     "output_type": "stream",
     "text": [
      "HVA=167 and HVB=169 in file /home/marijana/ReductionCOS/LCYA01010/lcya01ggq_corrtag_a.fits\n",
      "HVA=167 and HVB=169 in file /home/marijana/ReductionCOS/LCYA01010/lcya01g0q_corrtag_a.fits\n",
      "HVA=167 and HVB=169 in file /home/marijana/ReductionCOS/LCYA01010/lcya01fyq_corrtag_a.fits\n",
      "HVA=167 and HVB=169 in file /home/marijana/ReductionCOS/LCYA01010/lcya01gjq_corrtag_a.fits\n",
      "HVA=167 and HVB=169 in file /home/marijana/ReductionCOS/LCYA01010/lcya01gjq_corrtag_b.fits\n",
      "HVA=167 and HVB=169 in file /home/marijana/ReductionCOS/LCYA01010/lcya01fyq_corrtag_b.fits\n",
      "HVA=167 and HVB=169 in file /home/marijana/ReductionCOS/LCYA01010/lcya01g0q_corrtag_b.fits\n",
      "HVA=167 and HVB=169 in file /home/marijana/ReductionCOS/LCYA01010/lcya01ggq_corrtag_b.fits\n"
     ]
    }
   ],
   "source": [
    "reload(cr_utils)\n",
    "hva_a, hvb_a = cr_utils.get_hvlevels(corrtag_files_a)\n",
    "hva_b, hvb_b = cr_utils.get_hvlevels(corrtag_files_b)"
   ]
  },
  {
   "cell_type": "markdown",
   "metadata": {},
   "source": [
    "## Change PHA"
   ]
  },
  {
   "cell_type": "markdown",
   "metadata": {},
   "source": [
    "#### Examine PHA values near the trace of a single exposure  (OPTIONAL)"
   ]
  },
  {
   "cell_type": "code",
   "execution_count": 91,
   "metadata": {
    "collapsed": false
   },
   "outputs": [],
   "source": [
    "reload(cr_science)\n",
    "ex_region = cr_science.set_extraction_region(traces_a[0], 'FUVA', corrtag_files_a[0], check=True)"
   ]
  },
  {
   "cell_type": "code",
   "execution_count": 94,
   "metadata": {
    "collapsed": false
   },
   "outputs": [],
   "source": [
    "reload(cr_darks)\n",
    "pha_values_a, _, _ = cr_darks.get_pha_values_science(ex_region, corrtag_files_a[0], background=False)"
   ]
  },
  {
   "cell_type": "code",
   "execution_count": 95,
   "metadata": {
    "collapsed": true
   },
   "outputs": [],
   "source": [
    "from xastropy.xutils import xdebug as xdb\n",
    "xdb.xhist(pha_values_a)"
   ]
  },
  {
   "cell_type": "markdown",
   "metadata": {},
   "source": [
    "#### Edit"
   ]
  },
  {
   "cell_type": "code",
   "execution_count": 97,
   "metadata": {
    "collapsed": true
   },
   "outputs": [],
   "source": [
    "# Reset pha_mnx above if you wish"
   ]
  },
  {
   "cell_type": "code",
   "execution_count": 23,
   "metadata": {
    "collapsed": false
   },
   "outputs": [
    {
     "name": "stdout",
     "output_type": "stream",
     "text": [
      "Updating PHA values in /home/marijana/ReductionCOS/calibfilesmast/wc318317l_pha.fits\n"
     ]
    }
   ],
   "source": [
    "reload(cr_utils)\n",
    "cr_utils.change_pha(rdx_path+calib_folder, low=defaults['pha_mnx'][0], up=defaults['pha_mnx'][1])"
   ]
  },
  {
   "cell_type": "markdown",
   "metadata": {},
   "source": [
    "## Modify PHACORR"
   ]
  },
  {
   "cell_type": "code",
   "execution_count": 25,
   "metadata": {
    "collapsed": false
   },
   "outputs": [
    {
     "name": "stdout",
     "output_type": "stream",
     "text": [
      "Modifying header cards for rawtag file: /home/marijana/ReductionCOS/LCYA01010/lcya01ggq_rawtag_a.fits\n",
      "Modifying header cards for rawtag file: /home/marijana/ReductionCOS/LCYA01010/lcya01fyq_rawtag_a.fits\n",
      "Modifying header cards for rawtag file: /home/marijana/ReductionCOS/LCYA01010/lcya01ggq_rawtag_b.fits\n",
      "Modifying header cards for rawtag file: /home/marijana/ReductionCOS/LCYA01010/lcya01g0q_rawtag_b.fits\n",
      "Modifying header cards for rawtag file: /home/marijana/ReductionCOS/LCYA01010/lcya01gjq_rawtag_a.fits\n",
      "Modifying header cards for rawtag file: /home/marijana/ReductionCOS/LCYA01010/lcya01fyq_rawtag_b.fits\n",
      "Modifying header cards for rawtag file: /home/marijana/ReductionCOS/LCYA01010/lcya01gjq_rawtag_b.fits\n",
      "Modifying header cards for rawtag file: /home/marijana/ReductionCOS/LCYA01010/lcya01g0q_rawtag_a.fits\n"
     ]
    }
   ],
   "source": [
    "reload(cr_utils)\n",
    "cr_utils.modify_phacorr(rdx_path+science_folder)"
   ]
  },
  {
   "cell_type": "markdown",
   "metadata": {},
   "source": [
    "## Clean for CALCOS"
   ]
  },
  {
   "cell_type": "code",
   "execution_count": 9,
   "metadata": {
    "collapsed": false
   },
   "outputs": [],
   "source": [
    "reload(cr_utils)\n",
    "cr_utils.clean_for_calcos_phafiltering(rdx_path+science_folder)"
   ]
  },
  {
   "cell_type": "markdown",
   "metadata": {},
   "source": [
    "## Run Calcos as above -- with PHA restricted"
   ]
  },
  {
   "cell_type": "markdown",
   "metadata": {},
   "source": [
    "### Coadd new PHA frames"
   ]
  },
  {
   "cell_type": "code",
   "execution_count": 21,
   "metadata": {
    "collapsed": false
   },
   "outputs": [],
   "source": [
    "corrtag_files_a = glob.glob(rdx_path+science_folder + '*_corrtag_a.fits')\n",
    "corrtag_files_b = glob.glob(rdx_path+science_folder + '*_corrtag_b.fits')"
   ]
  },
  {
   "cell_type": "code",
   "execution_count": 23,
   "metadata": {
    "collapsed": false
   },
   "outputs": [
    {
     "data": {
      "text/plain": [
       "['/Users/xavier/HST/COS/LRG_Redux/LCYA01010/lcya01fyq_corrtag_a.fits',\n",
       " '/Users/xavier/HST/COS/LRG_Redux/LCYA01010/lcya01g0q_corrtag_a.fits',\n",
       " '/Users/xavier/HST/COS/LRG_Redux/LCYA01010/lcya01ggq_corrtag_a.fits',\n",
       " '/Users/xavier/HST/COS/LRG_Redux/LCYA01010/lcya01gjq_corrtag_a.fits']"
      ]
     },
     "execution_count": 23,
     "metadata": {},
     "output_type": "execute_result"
    }
   ],
   "source": [
    "corrtag_files_a"
   ]
  },
  {
   "cell_type": "code",
   "execution_count": 24,
   "metadata": {
    "collapsed": false
   },
   "outputs": [
    {
     "name": "stdout",
     "output_type": "stream",
     "text": [
      "Wrote outfile /Users/xavier/HST/COS/LRG_Redux/LCYA01010/lcya01010_coaddcorr_withPHA_a.fits\n",
      "Wrote outfile /Users/xavier/HST/COS/LRG_Redux/LCYA01010/lcya01010_coaddcorr_withPHA_b.fits\n"
     ]
    }
   ],
   "source": [
    "_ = cr_utils.coadd_bintables(corrtag_files_a, outfile=rdx_path+science_folder+root_out+'_coaddcorr_withPHA_a.fits')\n",
    "_ = cr_utils.coadd_bintables(corrtag_files_b, outfile=rdx_path+science_folder+root_out+'_coaddcorr_withPHA_b.fits')"
   ]
  },
  {
   "cell_type": "markdown",
   "metadata": {},
   "source": [
    "## Reduce Darks \n",
    "\n",
    "### Find Darks"
   ]
  },
  {
   "cell_type": "code",
   "execution_count": 31,
   "metadata": {
    "collapsed": true
   },
   "outputs": [],
   "source": [
    "darks_a=cr_utils.find_darks(rdx_path+dark_folder, corrtag_files_a[0], 'a')\n",
    "darks_b=cr_utils.find_darks(rdx_path+dark_folder, corrtag_files_b[0], 'b')"
   ]
  },
  {
   "cell_type": "code",
   "execution_count": 32,
   "metadata": {
    "collapsed": false
   },
   "outputs": [
    {
     "data": {
      "text/plain": [
       "['/home/marijana/ReductionCOS/darksall/ld0x3yn6q_rawtag_a.fits',\n",
       " '/home/marijana/ReductionCOS/darksall/ld0x4vjhq_rawtag_a.fits',\n",
       " '/home/marijana/ReductionCOS/darksall/ld0x5ebhq_rawtag_a.fits']"
      ]
     },
     "execution_count": 32,
     "metadata": {},
     "output_type": "execute_result"
    }
   ],
   "source": [
    "darks_a[0:3]"
   ]
  },
  {
   "cell_type": "markdown",
   "metadata": {},
   "source": [
    "### Copy Darks into sub-folders"
   ]
  },
  {
   "cell_type": "markdown",
   "metadata": {},
   "source": [
    "### Edit headers\n",
    "    Do not need to repeat if done previously"
   ]
  },
  {
   "cell_type": "code",
   "execution_count": 33,
   "metadata": {
    "collapsed": false
   },
   "outputs": [
    {
     "name": "stdout",
     "output_type": "stream",
     "text": [
      "Modifying header cards for rawtag file: /home/marijana/ReductionCOS/darksall/ld0x3yn6q_rawtag_a.fits\n",
      "Modifying header cards for rawtag file: /home/marijana/ReductionCOS/darksall/lcr96wwvq_rawtag_b.fits\n",
      "Modifying header cards for rawtag file: /home/marijana/ReductionCOS/darksall/ld0x3rc4q_rawtag_b.fits\n",
      "Modifying header cards for rawtag file: /home/marijana/ReductionCOS/darksall/ld0x09noq_rawtag_a.fits\n",
      "Modifying header cards for rawtag file: /home/marijana/ReductionCOS/darksall/ld0x12yqq_rawtag_b.fits\n",
      "Modifying header cards for rawtag file: /home/marijana/ReductionCOS/darksall/ld0x35glq_rawtag_a.fits\n",
      "Modifying header cards for rawtag file: /home/marijana/ReductionCOS/darksall/lcr96luxq_rawtag_a.fits\n",
      "Modifying header cards for rawtag file: /home/marijana/ReductionCOS/darksall/lcr9b5k2q_rawtag_b.fits\n",
      "Modifying header cards for rawtag file: /home/marijana/ReductionCOS/darksall/ld0x4vjhq_rawtag_a.fits\n",
      "Modifying header cards for rawtag file: /home/marijana/ReductionCOS/darksall/ld0x0kbuq_rawtag_a.fits\n",
      "Modifying header cards for rawtag file: /home/marijana/ReductionCOS/darksall/ld0x5ebhq_rawtag_a.fits\n",
      "Modifying header cards for rawtag file: /home/marijana/ReductionCOS/darksall/ld0x1aeoq_rawtag_b.fits\n",
      "Modifying header cards for rawtag file: /home/marijana/ReductionCOS/darksall/ld0x0oimq_rawtag_a.fits\n",
      "Modifying header cards for rawtag file: /home/marijana/ReductionCOS/darksall/ld0x3apfq_rawtag_b.fits\n",
      "Modifying header cards for rawtag file: /home/marijana/ReductionCOS/darksall/ld0x32gmq_rawtag_a.fits\n",
      "Modifying header cards for rawtag file: /home/marijana/ReductionCOS/darksall/ld0x0hatq_rawtag_b.fits\n",
      "Modifying header cards for rawtag file: /home/marijana/ReductionCOS/darksall/ld0x54ilq_rawtag_a.fits\n",
      "Modifying header cards for rawtag file: /home/marijana/ReductionCOS/darksall/ld0x3hmeq_rawtag_b.fits\n",
      "Modifying header cards for rawtag file: /home/marijana/ReductionCOS/darksall/lcr9bacoq_rawtag_a.fits\n",
      "Modifying header cards for rawtag file: /home/marijana/ReductionCOS/darksall/lcr966yzq_rawtag_b.fits\n",
      "Modifying header cards for rawtag file: /home/marijana/ReductionCOS/darksall/ld0x5sc3q_rawtag_a.fits\n",
      "Modifying header cards for rawtag file: /home/marijana/ReductionCOS/darksall/ld0x55isq_rawtag_a.fits\n",
      "Modifying header cards for rawtag file: /home/marijana/ReductionCOS/darksall/ld0x47ztq_rawtag_b.fits\n",
      "Modifying header cards for rawtag file: /home/marijana/ReductionCOS/darksall/ld0x50e0q_rawtag_b.fits\n",
      "Modifying header cards for rawtag file: /home/marijana/ReductionCOS/darksall/ld0x4bazq_rawtag_a.fits\n",
      "Modifying header cards for rawtag file: /home/marijana/ReductionCOS/darksall/ld0x4jcfq_rawtag_a.fits\n",
      "Modifying header cards for rawtag file: /home/marijana/ReductionCOS/darksall/lcr9bacoq_rawtag_b.fits\n",
      "Modifying header cards for rawtag file: /home/marijana/ReductionCOS/darksall/ld0x2vfbq_rawtag_b.fits\n",
      "Modifying header cards for rawtag file: /home/marijana/ReductionCOS/darksall/ld0x2aahq_rawtag_b.fits\n",
      "Modifying header cards for rawtag file: /home/marijana/ReductionCOS/darksall/ld0x03dlq_rawtag_a.fits\n",
      "Modifying header cards for rawtag file: /home/marijana/ReductionCOS/darksall/ld0x2uehq_rawtag_b.fits\n",
      "Modifying header cards for rawtag file: /home/marijana/ReductionCOS/darksall/ld0x3yn6q_rawtag_b.fits\n",
      "Modifying header cards for rawtag file: /home/marijana/ReductionCOS/darksall/ld0x2nj0q_rawtag_a.fits\n",
      "Modifying header cards for rawtag file: /home/marijana/ReductionCOS/darksall/lcr96jdaq_rawtag_a.fits\n",
      "Modifying header cards for rawtag file: /home/marijana/ReductionCOS/darksall/ld0x2phmq_rawtag_b.fits\n",
      "Modifying header cards for rawtag file: /home/marijana/ReductionCOS/darksall/ld0x5cb9q_rawtag_a.fits\n",
      "Modifying header cards for rawtag file: /home/marijana/ReductionCOS/darksall/lcr96mviq_rawtag_b.fits\n",
      "Modifying header cards for rawtag file: /home/marijana/ReductionCOS/darksall/ld0x62yrq_rawtag_a.fits\n",
      "Modifying header cards for rawtag file: /home/marijana/ReductionCOS/darksall/ld0x6cbqq_rawtag_b.fits\n",
      "Modifying header cards for rawtag file: /home/marijana/ReductionCOS/darksall/ld0x1pg4q_rawtag_b.fits\n",
      "Modifying header cards for rawtag file: /home/marijana/ReductionCOS/darksall/lcr9bye1q_rawtag_a.fits\n",
      "Modifying header cards for rawtag file: /home/marijana/ReductionCOS/darksall/ld0x41nlq_rawtag_a.fits\n",
      "Modifying header cards for rawtag file: /home/marijana/ReductionCOS/darksall/lcr96qbsq_rawtag_a.fits\n",
      "Modifying header cards for rawtag file: /home/marijana/ReductionCOS/darksall/ld0x07m3q_rawtag_a.fits\n",
      "Modifying header cards for rawtag file: /home/marijana/ReductionCOS/darksall/ld0x22jaq_rawtag_a.fits\n",
      "Modifying header cards for rawtag file: /home/marijana/ReductionCOS/darksall/lcr9bqbeq_rawtag_b.fits\n",
      "Modifying header cards for rawtag file: /home/marijana/ReductionCOS/darksall/ld0x24eoq_rawtag_b.fits\n",
      "Modifying header cards for rawtag file: /home/marijana/ReductionCOS/darksall/ld0x2caqq_rawtag_a.fits\n",
      "Modifying header cards for rawtag file: /home/marijana/ReductionCOS/darksall/lcr96ec7q_rawtag_b.fits\n",
      "Modifying header cards for rawtag file: /home/marijana/ReductionCOS/darksall/ld0x5gahq_rawtag_b.fits\n",
      "Modifying header cards for rawtag file: /home/marijana/ReductionCOS/darksall/ld0x2aahq_rawtag_a.fits\n",
      "Modifying header cards for rawtag file: /home/marijana/ReductionCOS/darksall/ld0x1varq_rawtag_b.fits\n",
      "Modifying header cards for rawtag file: /home/marijana/ReductionCOS/darksall/lcr9bccyq_rawtag_b.fits\n",
      "Modifying header cards for rawtag file: /home/marijana/ReductionCOS/darksall/ld0x6fa5q_rawtag_a.fits\n",
      "Modifying header cards for rawtag file: /home/marijana/ReductionCOS/darksall/lcr96rc4q_rawtag_b.fits\n",
      "Modifying header cards for rawtag file: /home/marijana/ReductionCOS/darksall/ld0x4tj5q_rawtag_a.fits\n",
      "Modifying header cards for rawtag file: /home/marijana/ReductionCOS/darksall/ld0x20iqq_rawtag_a.fits\n",
      "Modifying header cards for rawtag file: /home/marijana/ReductionCOS/darksall/ld0x3iuyq_rawtag_b.fits\n",
      "Modifying header cards for rawtag file: /home/marijana/ReductionCOS/darksall/ld0x5fbjq_rawtag_b.fits\n",
      "Modifying header cards for rawtag file: /home/marijana/ReductionCOS/darksall/ld0x0ao1q_rawtag_a.fits\n",
      "Modifying header cards for rawtag file: /home/marijana/ReductionCOS/darksall/lcr9bpb0q_rawtag_a.fits\n",
      "Modifying header cards for rawtag file: /home/marijana/ReductionCOS/darksall/lcr973azq_rawtag_b.fits\n",
      "Modifying header cards for rawtag file: /home/marijana/ReductionCOS/darksall/ld0x68goq_rawtag_b.fits\n",
      "Modifying header cards for rawtag file: /home/marijana/ReductionCOS/darksall/ld0x3jv7q_rawtag_b.fits\n",
      "Modifying header cards for rawtag file: /home/marijana/ReductionCOS/darksall/lcr9b9lpq_rawtag_a.fits\n",
      "Modifying header cards for rawtag file: /home/marijana/ReductionCOS/darksall/ld0x59bcq_rawtag_a.fits\n",
      "Modifying header cards for rawtag file: /home/marijana/ReductionCOS/darksall/lcr961utq_rawtag_b.fits\n",
      "Modifying header cards for rawtag file: /home/marijana/ReductionCOS/darksall/lcr96luxq_rawtag_b.fits\n",
      "Modifying header cards for rawtag file: /home/marijana/ReductionCOS/darksall/ld0x64agq_rawtag_b.fits\n",
      "Modifying header cards for rawtag file: /home/marijana/ReductionCOS/darksall/ld0x0nikq_rawtag_a.fits\n",
      "Modifying header cards for rawtag file: /home/marijana/ReductionCOS/darksall/ld0x5ldcq_rawtag_b.fits\n",
      "Modifying header cards for rawtag file: /home/marijana/ReductionCOS/darksall/ld0x4qgiq_rawtag_b.fits\n",
      "Modifying header cards for rawtag file: /home/marijana/ReductionCOS/darksall/ld0x2em4q_rawtag_b.fits\n",
      "Modifying header cards for rawtag file: /home/marijana/ReductionCOS/darksall/lcr964xiq_rawtag_b.fits\n",
      "Modifying header cards for rawtag file: /home/marijana/ReductionCOS/darksall/ld0x62yrq_rawtag_b.fits\n",
      "Modifying header cards for rawtag file: /home/marijana/ReductionCOS/darksall/ld0x3xmyq_rawtag_a.fits\n",
      "Modifying header cards for rawtag file: /home/marijana/ReductionCOS/darksall/ld0x4xd2q_rawtag_a.fits\n",
      "Modifying header cards for rawtag file: /home/marijana/ReductionCOS/darksall/ld0x5pewq_rawtag_a.fits\n",
      "Modifying header cards for rawtag file: /home/marijana/ReductionCOS/darksall/lcr9bbcsq_rawtag_b.fits\n",
      "Modifying header cards for rawtag file: /home/marijana/ReductionCOS/darksall/ld0x2jihq_rawtag_a.fits\n",
      "Modifying header cards for rawtag file: /home/marijana/ReductionCOS/darksall/ld0x6dbvq_rawtag_b.fits\n",
      "Modifying header cards for rawtag file: /home/marijana/ReductionCOS/darksall/ld0x6fa5q_rawtag_b.fits\n",
      "Modifying header cards for rawtag file: /home/marijana/ReductionCOS/darksall/ld0x0tb9q_rawtag_b.fits\n",
      "Modifying header cards for rawtag file: /home/marijana/ReductionCOS/darksall/ld0x08m8q_rawtag_b.fits\n",
      "Modifying header cards for rawtag file: /home/marijana/ReductionCOS/darksall/lcr960uaq_rawtag_a.fits\n",
      "Modifying header cards for rawtag file: /home/marijana/ReductionCOS/darksall/ld0x27g1q_rawtag_a.fits\n",
      "Modifying header cards for rawtag file: /home/marijana/ReductionCOS/darksall/ld0x0tb9q_rawtag_a.fits\n",
      "Modifying header cards for rawtag file: /home/marijana/ReductionCOS/darksall/ld0x34ftq_rawtag_b.fits\n",
      "Modifying header cards for rawtag file: /home/marijana/ReductionCOS/darksall/ld0x3wdoq_rawtag_a.fits\n",
      "Modifying header cards for rawtag file: /home/marijana/ReductionCOS/darksall/ld0x0vivq_rawtag_a.fits\n",
      "Modifying header cards for rawtag file: /home/marijana/ReductionCOS/darksall/ld0x5jbiq_rawtag_b.fits\n",
      "Modifying header cards for rawtag file: /home/marijana/ReductionCOS/darksall/ld0x37hbq_rawtag_b.fits\n",
      "Modifying header cards for rawtag file: /home/marijana/ReductionCOS/darksall/ld0x1qgdq_rawtag_b.fits\n",
      "Modifying header cards for rawtag file: /home/marijana/ReductionCOS/darksall/lcr96kuqq_rawtag_b.fits\n",
      "Modifying header cards for rawtag file: /home/marijana/ReductionCOS/darksall/ld0x3qbsq_rawtag_b.fits\n",
      "Modifying header cards for rawtag file: /home/marijana/ReductionCOS/darksall/ld0x1fa2q_rawtag_b.fits\n",
      "Modifying header cards for rawtag file: /home/marijana/ReductionCOS/darksall/ld0x6ljtq_rawtag_a.fits\n",
      "Modifying header cards for rawtag file: /home/marijana/ReductionCOS/darksall/ld0x47ztq_rawtag_a.fits\n",
      "Modifying header cards for rawtag file: /home/marijana/ReductionCOS/darksall/ld0x10xrq_rawtag_a.fits\n",
      "Modifying header cards for rawtag file: /home/marijana/ReductionCOS/darksall/ld0x3cpqq_rawtag_a.fits\n",
      "Modifying header cards for rawtag file: /home/marijana/ReductionCOS/darksall/lcr9b5k2q_rawtag_a.fits\n",
      "Modifying header cards for rawtag file: /home/marijana/ReductionCOS/darksall/ld0x1md7q_rawtag_b.fits\n",
      "Modifying header cards for rawtag file: /home/marijana/ReductionCOS/darksall/ld0x5ebhq_rawtag_b.fits\n",
      "Modifying header cards for rawtag file: /home/marijana/ReductionCOS/darksall/ld0x5oeuq_rawtag_a.fits\n",
      "Modifying header cards for rawtag file: /home/marijana/ReductionCOS/darksall/ld0x34ftq_rawtag_a.fits\n",
      "Modifying header cards for rawtag file: /home/marijana/ReductionCOS/darksall/ld0x25ffq_rawtag_b.fits\n",
      "Modifying header cards for rawtag file: /home/marijana/ReductionCOS/darksall/ld0x6okvq_rawtag_a.fits\n",
      "Modifying header cards for rawtag file: /home/marijana/ReductionCOS/darksall/lcr96wwvq_rawtag_a.fits\n",
      "Modifying header cards for rawtag file: /home/marijana/ReductionCOS/darksall/lcr9bjeuq_rawtag_a.fits\n",
      "Modifying header cards for rawtag file: /home/marijana/ReductionCOS/darksall/lcr96tf2q_rawtag_a.fits\n",
      "Modifying header cards for rawtag file: /home/marijana/ReductionCOS/darksall/lcr967z8q_rawtag_a.fits\n",
      "Modifying header cards for rawtag file: /home/marijana/ReductionCOS/darksall/ld0x29zsq_rawtag_a.fits\n",
      "Modifying header cards for rawtag file: /home/marijana/ReductionCOS/darksall/ld0x1rh8q_rawtag_b.fits\n",
      "Modifying header cards for rawtag file: /home/marijana/ReductionCOS/darksall/ld0x4zdyq_rawtag_b.fits\n",
      "Modifying header cards for rawtag file: /home/marijana/ReductionCOS/darksall/lcr96rc4q_rawtag_a.fits\n",
      "Modifying header cards for rawtag file: /home/marijana/ReductionCOS/darksall/ld0x05ecq_rawtag_b.fits\n",
      "Modifying header cards for rawtag file: /home/marijana/ReductionCOS/darksall/lcr9boixq_rawtag_b.fits\n",
      "Modifying header cards for rawtag file: /home/marijana/ReductionCOS/darksall/lcr9b9lpq_rawtag_b.fits\n",
      "Modifying header cards for rawtag file: /home/marijana/ReductionCOS/darksall/ld0x0ragq_rawtag_b.fits\n",
      "Modifying header cards for rawtag file: /home/marijana/ReductionCOS/darksall/ld0x0beyq_rawtag_b.fits\n",
      "Modifying header cards for rawtag file: /home/marijana/ReductionCOS/darksall/ld0x2yepq_rawtag_a.fits\n",
      "Modifying header cards for rawtag file: /home/marijana/ReductionCOS/darksall/lcr96fcpq_rawtag_b.fits\n",
      "Modifying header cards for rawtag file: /home/marijana/ReductionCOS/darksall/ld0x21j0q_rawtag_b.fits\n",
      "Modifying header cards for rawtag file: /home/marijana/ReductionCOS/darksall/ld0x5nepq_rawtag_b.fits\n",
      "Modifying header cards for rawtag file: /home/marijana/ReductionCOS/darksall/ld0x6kj1q_rawtag_b.fits\n",
      "Modifying header cards for rawtag file: /home/marijana/ReductionCOS/darksall/ld0x6nk8q_rawtag_b.fits\n",
      "Modifying header cards for rawtag file: /home/marijana/ReductionCOS/darksall/lcr96zymq_rawtag_b.fits\n",
      "Modifying header cards for rawtag file: /home/marijana/ReductionCOS/darksall/ld0x59bcq_rawtag_b.fits\n",
      "Modifying header cards for rawtag file: /home/marijana/ReductionCOS/darksall/ld0x6te4q_rawtag_a.fits\n",
      "Modifying header cards for rawtag file: /home/marijana/ReductionCOS/darksall/ld0x40ncq_rawtag_a.fits\n",
      "Modifying header cards for rawtag file: /home/marijana/ReductionCOS/darksall/lcr96ec7q_rawtag_a.fits\n",
      "Modifying header cards for rawtag file: /home/marijana/ReductionCOS/darksall/ld0x17fhq_rawtag_b.fits\n",
      "Modifying header cards for rawtag file: /home/marijana/ReductionCOS/darksall/ld0x4aaxq_rawtag_a.fits\n",
      "Modifying header cards for rawtag file: /home/marijana/ReductionCOS/darksall/ld0x5xegq_rawtag_a.fits\n",
      "Modifying header cards for rawtag file: /home/marijana/ReductionCOS/darksall/lcr9bkciq_rawtag_b.fits\n",
      "Modifying header cards for rawtag file: /home/marijana/ReductionCOS/darksall/lcr9bfdvq_rawtag_b.fits\n",
      "Modifying header cards for rawtag file: /home/marijana/ReductionCOS/darksall/ld0x4og6q_rawtag_a.fits\n",
      "Modifying header cards for rawtag file: /home/marijana/ReductionCOS/darksall/ld0x3elyq_rawtag_b.fits\n",
      "Modifying header cards for rawtag file: /home/marijana/ReductionCOS/darksall/ld0x1hbbq_rawtag_b.fits\n",
      "Modifying header cards for rawtag file: /home/marijana/ReductionCOS/darksall/ld0x52i3q_rawtag_b.fits\n",
      "Modifying header cards for rawtag file: /home/marijana/ReductionCOS/darksall/lcr96nvuq_rawtag_b.fits\n",
      "Modifying header cards for rawtag file: /home/marijana/ReductionCOS/darksall/ld0x1kc8q_rawtag_b.fits\n",
      "Modifying header cards for rawtag file: /home/marijana/ReductionCOS/darksall/ld0x48aqq_rawtag_b.fits\n",
      "Modifying header cards for rawtag file: /home/marijana/ReductionCOS/darksall/ld0x1xazq_rawtag_b.fits\n",
      "Modifying header cards for rawtag file: /home/marijana/ReductionCOS/darksall/ld0x2te5q_rawtag_a.fits\n",
      "Modifying header cards for rawtag file: /home/marijana/ReductionCOS/darksall/ld0x6ec1q_rawtag_b.fits\n",
      "Modifying header cards for rawtag file: /home/marijana/ReductionCOS/darksall/ld0x4mg0q_rawtag_b.fits\n",
      "Modifying header cards for rawtag file: /home/marijana/ReductionCOS/darksall/ld0x08m8q_rawtag_a.fits\n",
      "Modifying header cards for rawtag file: /home/marijana/ReductionCOS/darksall/ld0x52i3q_rawtag_a.fits\n",
      "Modifying header cards for rawtag file: /home/marijana/ReductionCOS/darksall/ld0x5bafq_rawtag_b.fits\n",
      "Modifying header cards for rawtag file: /home/marijana/ReductionCOS/darksall/ld0x1dfcq_rawtag_b.fits\n",
      "Modifying header cards for rawtag file: /home/marijana/ReductionCOS/darksall/ld0x0dfvq_rawtag_b.fits\n",
      "Modifying header cards for rawtag file: /home/marijana/ReductionCOS/darksall/ld0x51h9q_rawtag_a.fits\n",
      "Modifying header cards for rawtag file: /home/marijana/ReductionCOS/darksall/lcr971a2q_rawtag_b.fits\n",
      "Modifying header cards for rawtag file: /home/marijana/ReductionCOS/darksall/ld0x48aqq_rawtag_a.fits\n",
      "Modifying header cards for rawtag file: /home/marijana/ReductionCOS/darksall/ld0x3udiq_rawtag_a.fits\n",
      "Modifying header cards for rawtag file: /home/marijana/ReductionCOS/darksall/ld0x0wjyq_rawtag_a.fits\n",
      "Modifying header cards for rawtag file: /home/marijana/ReductionCOS/darksall/ld0x42f6q_rawtag_a.fits\n",
      "Modifying header cards for rawtag file: /home/marijana/ReductionCOS/darksall/ld0x1jbmq_rawtag_b.fits\n",
      "Modifying header cards for rawtag file: /home/marijana/ReductionCOS/darksall/ld0x45gkq_rawtag_b.fits\n",
      "Modifying header cards for rawtag file: /home/marijana/ReductionCOS/darksall/ld0x6hb7q_rawtag_b.fits\n",
      "Modifying header cards for rawtag file: /home/marijana/ReductionCOS/darksall/ld0x2fnlq_rawtag_a.fits\n",
      "Modifying header cards for rawtag file: /home/marijana/ReductionCOS/darksall/ld0x09noq_rawtag_b.fits\n",
      "Modifying header cards for rawtag file: /home/marijana/ReductionCOS/darksall/lcr976gyq_rawtag_a.fits\n",
      "Modifying header cards for rawtag file: /home/marijana/ReductionCOS/darksall/lcr9bdd1q_rawtag_a.fits\n",
      "Modifying header cards for rawtag file: /home/marijana/ReductionCOS/darksall/ld0x0egdq_rawtag_b.fits\n",
      "Modifying header cards for rawtag file: /home/marijana/ReductionCOS/darksall/ld0x1pg4q_rawtag_a.fits\n",
      "Modifying header cards for rawtag file: /home/marijana/ReductionCOS/darksall/lcr96owiq_rawtag_a.fits\n",
      "Modifying header cards for rawtag file: /home/marijana/ReductionCOS/darksall/ld0x4fg3q_rawtag_b.fits\n",
      "Modifying header cards for rawtag file: /home/marijana/ReductionCOS/darksall/ld0x5hanq_rawtag_b.fits\n",
      "Modifying header cards for rawtag file: /home/marijana/ReductionCOS/darksall/ld0x3apfq_rawtag_a.fits\n",
      "Modifying header cards for rawtag file: /home/marijana/ReductionCOS/darksall/ld0x27g1q_rawtag_b.fits\n",
      "Modifying header cards for rawtag file: /home/marijana/ReductionCOS/darksall/ld0x1ibfq_rawtag_b.fits\n",
      "Modifying header cards for rawtag file: /home/marijana/ReductionCOS/darksall/ld0x18fjq_rawtag_b.fits\n",
      "Modifying header cards for rawtag file: /home/marijana/ReductionCOS/darksall/ld0x4hbiq_rawtag_a.fits\n",
      "Modifying header cards for rawtag file: /home/marijana/ReductionCOS/darksall/ld0x58b7q_rawtag_a.fits\n",
      "Modifying header cards for rawtag file: /home/marijana/ReductionCOS/darksall/ld0x1cf2q_rawtag_b.fits\n",
      "Modifying header cards for rawtag file: /home/marijana/ReductionCOS/darksall/ld0x5cb9q_rawtag_b.fits\n",
      "Modifying header cards for rawtag file: /home/marijana/ReductionCOS/darksall/lcr9bed4q_rawtag_b.fits\n",
      "Modifying header cards for rawtag file: /home/marijana/ReductionCOS/darksall/ld0x3pbpq_rawtag_b.fits\n",
      "Modifying header cards for rawtag file: /home/marijana/ReductionCOS/darksall/lcr96gcwq_rawtag_a.fits\n",
      "Modifying header cards for rawtag file: /home/marijana/ReductionCOS/darksall/lcr974ejq_rawtag_b.fits\n",
      "Modifying header cards for rawtag file: /home/marijana/ReductionCOS/darksall/lcr9bscdq_rawtag_a.fits\n",
      "Modifying header cards for rawtag file: /home/marijana/ReductionCOS/darksall/ld0x3nbaq_rawtag_b.fits\n",
      "Modifying header cards for rawtag file: /home/marijana/ReductionCOS/darksall/lcr964xiq_rawtag_a.fits\n",
      "Modifying header cards for rawtag file: /home/marijana/ReductionCOS/darksall/ld0x3vdlq_rawtag_a.fits\n",
      "Modifying header cards for rawtag file: /home/marijana/ReductionCOS/darksall/lcr9bpb0q_rawtag_b.fits\n",
      "Modifying header cards for rawtag file: /home/marijana/ReductionCOS/darksall/ld0x5abjq_rawtag_b.fits\n",
      "Modifying header cards for rawtag file: /home/marijana/ReductionCOS/darksall/ld0x6qd5q_rawtag_b.fits\n",
      "Modifying header cards for rawtag file: /home/marijana/ReductionCOS/darksall/ld0x3lwgq_rawtag_b.fits\n",
      "Modifying header cards for rawtag file: /home/marijana/ReductionCOS/darksall/ld0x3fm1q_rawtag_b.fits\n",
      "Modifying header cards for rawtag file: /home/marijana/ReductionCOS/darksall/lcr9bkciq_rawtag_a.fits\n",
      "Modifying header cards for rawtag file: /home/marijana/ReductionCOS/darksall/lcr9bed4q_rawtag_a.fits\n",
      "Modifying header cards for rawtag file: /home/marijana/ReductionCOS/darksall/ld0x28ggq_rawtag_a.fits\n",
      "Modifying header cards for rawtag file: /home/marijana/ReductionCOS/darksall/ld0x4qgiq_rawtag_a.fits\n",
      "Modifying header cards for rawtag file: /home/marijana/ReductionCOS/darksall/ld0x0iayq_rawtag_b.fits\n",
      "Modifying header cards for rawtag file: /home/marijana/ReductionCOS/darksall/ld0x15eyq_rawtag_b.fits\n",
      "Modifying header cards for rawtag file: /home/marijana/ReductionCOS/darksall/ld0x23jhq_rawtag_b.fits\n",
      "Modifying header cards for rawtag file: /home/marijana/ReductionCOS/darksall/lcr9bngeq_rawtag_b.fits\n",
      "Modifying header cards for rawtag file: /home/marijana/ReductionCOS/darksall/lcr96pasq_rawtag_a.fits\n",
      "Modifying header cards for rawtag file: /home/marijana/ReductionCOS/darksall/ld0x4yduq_rawtag_a.fits\n",
      "Modifying header cards for rawtag file: /home/marijana/ReductionCOS/darksall/ld0x06l1q_rawtag_b.fits\n",
      "Modifying header cards for rawtag file: /home/marijana/ReductionCOS/darksall/ld0x4ri8q_rawtag_b.fits\n",
      "Modifying header cards for rawtag file: /home/marijana/ReductionCOS/darksall/lcr965yvq_rawtag_b.fits\n",
      "Modifying header cards for rawtag file: /home/marijana/ReductionCOS/darksall/ld0x66g9q_rawtag_a.fits\n",
      "Modifying header cards for rawtag file: /home/marijana/ReductionCOS/darksall/lcr969zjq_rawtag_b.fits\n",
      "Modifying header cards for rawtag file: /home/marijana/ReductionCOS/darksall/lcr9bubbq_rawtag_b.fits\n",
      "Modifying header cards for rawtag file: /home/marijana/ReductionCOS/darksall/ld0x6cbqq_rawtag_a.fits\n",
      "Modifying header cards for rawtag file: /home/marijana/ReductionCOS/darksall/lcr9btcnq_rawtag_a.fits\n",
      "Modifying header cards for rawtag file: /home/marijana/ReductionCOS/darksall/ld0x19foq_rawtag_b.fits\n",
      "Modifying header cards for rawtag file: /home/marijana/ReductionCOS/darksall/ld0x5zeyq_rawtag_b.fits\n",
      "Modifying header cards for rawtag file: /home/marijana/ReductionCOS/darksall/lcr96gcwq_rawtag_b.fits\n",
      "Modifying header cards for rawtag file: /home/marijana/ReductionCOS/darksall/ld0x3td8q_rawtag_a.fits\n",
      "Modifying header cards for rawtag file: /home/marijana/ReductionCOS/darksall/ld0x46gqq_rawtag_a.fits\n",
      "Modifying header cards for rawtag file: /home/marijana/ReductionCOS/darksall/ld0x1yb1q_rawtag_b.fits\n",
      "Modifying header cards for rawtag file: /home/marijana/ReductionCOS/darksall/ld0x1sheq_rawtag_a.fits\n",
      "Modifying header cards for rawtag file: /home/marijana/ReductionCOS/darksall/ld0x1uaoq_rawtag_b.fits\n",
      "Modifying header cards for rawtag file: /home/marijana/ReductionCOS/darksall/ld0x4kckq_rawtag_b.fits\n",
      "Modifying header cards for rawtag file: /home/marijana/ReductionCOS/darksall/ld0x4ng2q_rawtag_a.fits\n",
      "Modifying header cards for rawtag file: /home/marijana/ReductionCOS/darksall/ld0x2davq_rawtag_a.fits\n",
      "Modifying header cards for rawtag file: /home/marijana/ReductionCOS/darksall/ld0x4xd2q_rawtag_b.fits\n",
      "Modifying header cards for rawtag file: /home/marijana/ReductionCOS/darksall/ld0x4sigq_rawtag_a.fits\n",
      "Modifying header cards for rawtag file: /home/marijana/ReductionCOS/darksall/ld0x2nj0q_rawtag_b.fits\n",
      "Modifying header cards for rawtag file: /home/marijana/ReductionCOS/darksall/lcr9bccyq_rawtag_a.fits\n",
      "Modifying header cards for rawtag file: /home/marijana/ReductionCOS/darksall/lcr975gvq_rawtag_b.fits\n",
      "Modifying header cards for rawtag file: /home/marijana/ReductionCOS/darksall/ld0x0midq_rawtag_a.fits\n",
      "Modifying header cards for rawtag file: /home/marijana/ReductionCOS/darksall/lcr9bfdvq_rawtag_a.fits\n",
      "Modifying header cards for rawtag file: /home/marijana/ReductionCOS/darksall/ld0x2zf9q_rawtag_a.fits\n",
      "Modifying header cards for rawtag file: /home/marijana/ReductionCOS/darksall/ld0x2em4q_rawtag_a.fits\n",
      "Modifying header cards for rawtag file: /home/marijana/ReductionCOS/darksall/ld0x2davq_rawtag_b.fits\n",
      "Modifying header cards for rawtag file: /home/marijana/ReductionCOS/darksall/ld0x3fm1q_rawtag_a.fits\n",
      "Modifying header cards for rawtag file: /home/marijana/ReductionCOS/darksall/ld0x2kinq_rawtag_b.fits\n",
      "Modifying header cards for rawtag file: /home/marijana/ReductionCOS/darksall/ld0x68goq_rawtag_a.fits\n",
      "Modifying header cards for rawtag file: /home/marijana/ReductionCOS/darksall/ld0x1thkq_rawtag_b.fits\n",
      "Modifying header cards for rawtag file: /home/marijana/ReductionCOS/darksall/ld0x6aapq_rawtag_b.fits\n",
      "Modifying header cards for rawtag file: /home/marijana/ReductionCOS/darksall/lcr9ble1q_rawtag_a.fits\n",
      "Modifying header cards for rawtag file: /home/marijana/ReductionCOS/darksall/ld0x6jbmq_rawtag_a.fits\n",
      "Modifying header cards for rawtag file: /home/marijana/ReductionCOS/darksall/ld0x1hbbq_rawtag_a.fits\n",
      "Modifying header cards for rawtag file: /home/marijana/ReductionCOS/darksall/ld0x23jhq_rawtag_a.fits\n",
      "Modifying header cards for rawtag file: /home/marijana/ReductionCOS/darksall/ld0x13zcq_rawtag_a.fits\n",
      "Modifying header cards for rawtag file: /home/marijana/ReductionCOS/darksall/ld0x5hanq_rawtag_a.fits\n",
      "Modifying header cards for rawtag file: /home/marijana/ReductionCOS/darksall/ld0x5ibgq_rawtag_a.fits\n",
      "Modifying header cards for rawtag file: /home/marijana/ReductionCOS/darksall/lcr972acq_rawtag_a.fits\n",
      "Modifying header cards for rawtag file: /home/marijana/ReductionCOS/darksall/ld0x4ng2q_rawtag_b.fits\n",
      "Modifying header cards for rawtag file: /home/marijana/ReductionCOS/darksall/ld0x0kbuq_rawtag_b.fits\n",
      "Modifying header cards for rawtag file: /home/marijana/ReductionCOS/darksall/ld0x2gcxq_rawtag_b.fits\n",
      "Modifying header cards for rawtag file: /home/marijana/ReductionCOS/darksall/ld0x04dzq_rawtag_b.fits\n",
      "Modifying header cards for rawtag file: /home/marijana/ReductionCOS/darksall/ld0x6pcwq_rawtag_b.fits\n",
      "Modifying header cards for rawtag file: /home/marijana/ReductionCOS/darksall/lcr96vwkq_rawtag_b.fits\n",
      "Modifying header cards for rawtag file: /home/marijana/ReductionCOS/darksall/ld0x4pgdq_rawtag_b.fits\n",
      "Modifying header cards for rawtag file: /home/marijana/ReductionCOS/darksall/ld0x4fg3q_rawtag_a.fits\n",
      "Modifying header cards for rawtag file: /home/marijana/ReductionCOS/darksall/ld0x1varq_rawtag_a.fits\n",
      "Modifying header cards for rawtag file: /home/marijana/ReductionCOS/darksall/ld0x4jcfq_rawtag_b.fits\n",
      "Modifying header cards for rawtag file: /home/marijana/ReductionCOS/darksall/ld0x14zeq_rawtag_b.fits\n",
      "Modifying header cards for rawtag file: /home/marijana/ReductionCOS/darksall/ld0x5dbeq_rawtag_b.fits\n",
      "Modifying header cards for rawtag file: /home/marijana/ReductionCOS/darksall/ld0x1dfcq_rawtag_a.fits\n",
      "Modifying header cards for rawtag file: /home/marijana/ReductionCOS/darksall/ld0x6ljtq_rawtag_b.fits\n",
      "Modifying header cards for rawtag file: /home/marijana/ReductionCOS/darksall/ld0x53idq_rawtag_b.fits\n",
      "Modifying header cards for rawtag file: /home/marijana/ReductionCOS/darksall/ld0x1nikq_rawtag_b.fits\n",
      "Modifying header cards for rawtag file: /home/marijana/ReductionCOS/darksall/ld0x5oeuq_rawtag_b.fits\n",
      "Modifying header cards for rawtag file: /home/marijana/ReductionCOS/darksall/ld0x67giq_rawtag_b.fits\n",
      "Modifying header cards for rawtag file: /home/marijana/ReductionCOS/darksall/lcr96bbdq_rawtag_b.fits\n",
      "Modifying header cards for rawtag file: /home/marijana/ReductionCOS/darksall/lcr96xxlq_rawtag_a.fits\n",
      "Modifying header cards for rawtag file: /home/marijana/ReductionCOS/darksall/ld0x43fmq_rawtag_b.fits\n",
      "Modifying header cards for rawtag file: /home/marijana/ReductionCOS/darksall/ld0x36gsq_rawtag_b.fits\n",
      "Modifying header cards for rawtag file: /home/marijana/ReductionCOS/darksall/ld0x03dlq_rawtag_b.fits\n",
      "Modifying header cards for rawtag file: /home/marijana/ReductionCOS/darksall/lcr968zeq_rawtag_a.fits\n",
      "Modifying header cards for rawtag file: /home/marijana/ReductionCOS/darksall/ld0x3bpnq_rawtag_a.fits\n",
      "Modifying header cards for rawtag file: /home/marijana/ReductionCOS/darksall/lcr96cbiq_rawtag_b.fits\n",
      "Modifying header cards for rawtag file: /home/marijana/ReductionCOS/darksall/ld0x39p8q_rawtag_a.fits\n",
      "Modifying header cards for rawtag file: /home/marijana/ReductionCOS/darksall/ld0x0zkmq_rawtag_a.fits\n",
      "Modifying header cards for rawtag file: /home/marijana/ReductionCOS/darksall/ld0x16feq_rawtag_a.fits\n",
      "Modifying header cards for rawtag file: /home/marijana/ReductionCOS/darksall/lcr9b6khq_rawtag_a.fits\n",
      "Modifying header cards for rawtag file: /home/marijana/ReductionCOS/darksall/ld0x0nikq_rawtag_b.fits\n",
      "Modifying header cards for rawtag file: /home/marijana/ReductionCOS/darksall/lcr968zeq_rawtag_b.fits\n",
      "Modifying header cards for rawtag file: /home/marijana/ReductionCOS/darksall/lcr9bngeq_rawtag_a.fits\n",
      "Modifying header cards for rawtag file: /home/marijana/ReductionCOS/darksall/lcr9b6khq_rawtag_b.fits\n",
      "Modifying header cards for rawtag file: /home/marijana/ReductionCOS/darksall/ld0x6bayq_rawtag_a.fits\n",
      "Modifying header cards for rawtag file: /home/marijana/ReductionCOS/darksall/ld0x2caqq_rawtag_b.fits\n",
      "Modifying header cards for rawtag file: /home/marijana/ReductionCOS/darksall/ld0x0lhrq_rawtag_b.fits\n",
      "Modifying header cards for rawtag file: /home/marijana/ReductionCOS/darksall/ld0x2riyq_rawtag_a.fits\n",
      "Modifying header cards for rawtag file: /home/marijana/ReductionCOS/darksall/ld0x1kc8q_rawtag_a.fits\n",
      "Modifying header cards for rawtag file: /home/marijana/ReductionCOS/darksall/ld0x1ga8q_rawtag_a.fits\n",
      "Modifying header cards for rawtag file: /home/marijana/ReductionCOS/darksall/ld0x1zhyq_rawtag_a.fits\n",
      "Modifying header cards for rawtag file: /home/marijana/ReductionCOS/darksall/ld0x5ibgq_rawtag_b.fits\n",
      "Modifying header cards for rawtag file: /home/marijana/ReductionCOS/darksall/ld0x3kw8q_rawtag_b.fits\n",
      "Modifying header cards for rawtag file: /home/marijana/ReductionCOS/darksall/ld0x30fsq_rawtag_a.fits\n",
      "Modifying header cards for rawtag file: /home/marijana/ReductionCOS/darksall/ld0x3obeq_rawtag_b.fits\n",
      "Modifying header cards for rawtag file: /home/marijana/ReductionCOS/darksall/lcr9bqbeq_rawtag_a.fits\n",
      "Modifying header cards for rawtag file: /home/marijana/ReductionCOS/darksall/ld0x1md7q_rawtag_a.fits\n",
      "Modifying header cards for rawtag file: /home/marijana/ReductionCOS/darksall/ld0x46gqq_rawtag_b.fits\n",
      "Modifying header cards for rawtag file: /home/marijana/ReductionCOS/darksall/lcr9brcbq_rawtag_a.fits\n",
      "Modifying header cards for rawtag file: /home/marijana/ReductionCOS/darksall/lcr9bge4q_rawtag_b.fits\n",
      "Modifying header cards for rawtag file: /home/marijana/ReductionCOS/darksall/ld0x3obeq_rawtag_a.fits\n",
      "Modifying header cards for rawtag file: /home/marijana/ReductionCOS/darksall/ld0x4cemq_rawtag_b.fits\n",
      "Modifying header cards for rawtag file: /home/marijana/ReductionCOS/darksall/ld0x1sheq_rawtag_b.fits\n",
      "Modifying header cards for rawtag file: /home/marijana/ReductionCOS/darksall/ld0x0gafq_rawtag_b.fits\n",
      "Modifying header cards for rawtag file: /home/marijana/ReductionCOS/darksall/lcr970zvq_rawtag_b.fits\n",
      "Modifying header cards for rawtag file: /home/marijana/ReductionCOS/darksall/ld0x5sc3q_rawtag_b.fits\n",
      "Modifying header cards for rawtag file: /home/marijana/ReductionCOS/darksall/lcr976gyq_rawtag_b.fits\n",
      "Modifying header cards for rawtag file: /home/marijana/ReductionCOS/darksall/lcr96id1q_rawtag_a.fits\n",
      "Modifying header cards for rawtag file: /home/marijana/ReductionCOS/darksall/ld0x05ecq_rawtag_a.fits\n",
      "Modifying header cards for rawtag file: /home/marijana/ReductionCOS/darksall/lcr9bxc4q_rawtag_b.fits\n",
      "Modifying header cards for rawtag file: /home/marijana/ReductionCOS/darksall/ld0x1obbq_rawtag_b.fits\n",
      "Modifying header cards for rawtag file: /home/marijana/ReductionCOS/darksall/ld0x2balq_rawtag_a.fits\n",
      "Modifying header cards for rawtag file: /home/marijana/ReductionCOS/darksall/ld0x5mdmq_rawtag_a.fits\n",
      "Modifying header cards for rawtag file: /home/marijana/ReductionCOS/darksall/ld0x0dfvq_rawtag_a.fits\n",
      "Modifying header cards for rawtag file: /home/marijana/ReductionCOS/darksall/ld0x21j0q_rawtag_a.fits\n",
      "Modifying header cards for rawtag file: /home/marijana/ReductionCOS/darksall/ld0x3wdoq_rawtag_b.fits\n",
      "Modifying header cards for rawtag file: /home/marijana/ReductionCOS/darksall/ld0x4bazq_rawtag_b.fits\n",
      "Modifying header cards for rawtag file: /home/marijana/ReductionCOS/darksall/lcr96bbdq_rawtag_a.fits\n",
      "Modifying header cards for rawtag file: /home/marijana/ReductionCOS/darksall/ld0x16feq_rawtag_b.fits\n",
      "Modifying header cards for rawtag file: /home/marijana/ReductionCOS/darksall/ld0x1obbq_rawtag_a.fits\n",
      "Modifying header cards for rawtag file: /home/marijana/ReductionCOS/darksall/ld0x60xtq_rawtag_b.fits\n",
      "Modifying header cards for rawtag file: /home/marijana/ReductionCOS/darksall/ld0x4aaxq_rawtag_b.fits\n",
      "Modifying header cards for rawtag file: /home/marijana/ReductionCOS/darksall/lcr978h9q_rawtag_b.fits\n",
      "Modifying header cards for rawtag file: /home/marijana/ReductionCOS/darksall/ld0x6kj1q_rawtag_a.fits\n",
      "Modifying header cards for rawtag file: /home/marijana/ReductionCOS/darksall/ld0x3nbaq_rawtag_a.fits\n",
      "Modifying header cards for rawtag file: /home/marijana/ReductionCOS/darksall/ld0x3bpnq_rawtag_b.fits\n",
      "Modifying header cards for rawtag file: /home/marijana/ReductionCOS/darksall/lcr96mviq_rawtag_a.fits\n",
      "Modifying header cards for rawtag file: /home/marijana/ReductionCOS/darksall/ld0x1rh8q_rawtag_a.fits\n",
      "Modifying header cards for rawtag file: /home/marijana/ReductionCOS/darksall/ld0x6qd5q_rawtag_a.fits\n",
      "Modifying header cards for rawtag file: /home/marijana/ReductionCOS/darksall/ld0x6gaxq_rawtag_a.fits\n",
      "Modifying header cards for rawtag file: /home/marijana/ReductionCOS/darksall/lcr96jdaq_rawtag_b.fits\n",
      "Modifying header cards for rawtag file: /home/marijana/ReductionCOS/darksall/ld0x2ohbq_rawtag_b.fits\n",
      "Modifying header cards for rawtag file: /home/marijana/ReductionCOS/darksall/ld0x15eyq_rawtag_a.fits\n",
      "Modifying header cards for rawtag file: /home/marijana/ReductionCOS/darksall/ld0x2xfpq_rawtag_a.fits\n",
      "Modifying header cards for rawtag file: /home/marijana/ReductionCOS/darksall/lcr9bieiq_rawtag_b.fits\n",
      "Modifying header cards for rawtag file: /home/marijana/ReductionCOS/darksall/ld0x37hbq_rawtag_a.fits\n",
      "Modifying header cards for rawtag file: /home/marijana/ReductionCOS/darksall/ld0x49asq_rawtag_b.fits\n",
      "Modifying header cards for rawtag file: /home/marijana/ReductionCOS/darksall/ld0x6sdpq_rawtag_a.fits\n",
      "Modifying header cards for rawtag file: /home/marijana/ReductionCOS/darksall/ld0x22jaq_rawtag_b.fits\n",
      "Modifying header cards for rawtag file: /home/marijana/ReductionCOS/darksall/ld0x3zn9q_rawtag_a.fits\n",
      "Modifying header cards for rawtag file: /home/marijana/ReductionCOS/darksall/lcr962x7q_rawtag_b.fits\n",
      "Modifying header cards for rawtag file: /home/marijana/ReductionCOS/darksall/ld0x2kinq_rawtag_a.fits\n",
      "Modifying header cards for rawtag file: /home/marijana/ReductionCOS/darksall/ld0x4pgdq_rawtag_a.fits\n",
      "Modifying header cards for rawtag file: /home/marijana/ReductionCOS/darksall/ld0x6ec1q_rawtag_a.fits\n",
      "Modifying header cards for rawtag file: /home/marijana/ReductionCOS/darksall/ld0x2wfkq_rawtag_a.fits\n",
      "Modifying header cards for rawtag file: /home/marijana/ReductionCOS/darksall/ld0x2vfbq_rawtag_a.fits\n",
      "Modifying header cards for rawtag file: /home/marijana/ReductionCOS/darksall/ld0x2jihq_rawtag_b.fits\n",
      "Modifying header cards for rawtag file: /home/marijana/ReductionCOS/darksall/ld0x5mdmq_rawtag_b.fits\n",
      "Modifying header cards for rawtag file: /home/marijana/ReductionCOS/darksall/ld0x2sj9q_rawtag_b.fits\n",
      "Modifying header cards for rawtag file: /home/marijana/ReductionCOS/darksall/ld0x01cqq_rawtag_a.fits\n",
      "Modifying header cards for rawtag file: /home/marijana/ReductionCOS/darksall/lcr972acq_rawtag_b.fits\n",
      "Modifying header cards for rawtag file: /home/marijana/ReductionCOS/darksall/ld0x4gg9q_rawtag_a.fits\n",
      "Modifying header cards for rawtag file: /home/marijana/ReductionCOS/darksall/ld0x5jbiq_rawtag_a.fits\n",
      "Modifying header cards for rawtag file: /home/marijana/ReductionCOS/darksall/ld0x5tc5q_rawtag_a.fits\n",
      "Modifying header cards for rawtag file: /home/marijana/ReductionCOS/darksall/ld0x3mwtq_rawtag_a.fits\n",
      "Modifying header cards for rawtag file: /home/marijana/ReductionCOS/darksall/ld0x4zdyq_rawtag_a.fits\n",
      "Modifying header cards for rawtag file: /home/marijana/ReductionCOS/darksall/lcr9bbcsq_rawtag_a.fits\n",
      "Modifying header cards for rawtag file: /home/marijana/ReductionCOS/darksall/ld0x2wfkq_rawtag_b.fits\n",
      "Modifying header cards for rawtag file: /home/marijana/ReductionCOS/darksall/ld0x44gaq_rawtag_b.fits\n",
      "Modifying header cards for rawtag file: /home/marijana/ReductionCOS/darksall/ld0x2te5q_rawtag_b.fits\n",
      "Modifying header cards for rawtag file: /home/marijana/ReductionCOS/darksall/ld0x0gafq_rawtag_a.fits\n",
      "Modifying header cards for rawtag file: /home/marijana/ReductionCOS/darksall/lcr96owiq_rawtag_b.fits\n",
      "Modifying header cards for rawtag file: /home/marijana/ReductionCOS/darksall/ld0x33efq_rawtag_b.fits\n",
      "Modifying header cards for rawtag file: /home/marijana/ReductionCOS/darksall/ld0x0hatq_rawtag_a.fits\n",
      "Modifying header cards for rawtag file: /home/marijana/ReductionCOS/darksall/ld0x5tc5q_rawtag_b.fits\n",
      "Modifying header cards for rawtag file: /home/marijana/ReductionCOS/darksall/ld0x12yqq_rawtag_a.fits\n",
      "Modifying header cards for rawtag file: /home/marijana/ReductionCOS/darksall/ld0x4hbiq_rawtag_b.fits\n",
      "Modifying header cards for rawtag file: /home/marijana/ReductionCOS/darksall/lcr96ab5q_rawtag_a.fits\n",
      "Modifying header cards for rawtag file: /home/marijana/ReductionCOS/darksall/ld0x4efuq_rawtag_b.fits\n",
      "Modifying header cards for rawtag file: /home/marijana/ReductionCOS/darksall/ld0x3jv7q_rawtag_a.fits\n",
      "Modifying header cards for rawtag file: /home/marijana/ReductionCOS/darksall/ld0x1bevq_rawtag_b.fits\n",
      "Modifying header cards for rawtag file: /home/marijana/ReductionCOS/darksall/ld0x1lcjq_rawtag_a.fits\n",
      "Modifying header cards for rawtag file: /home/marijana/ReductionCOS/darksall/ld0x04dzq_rawtag_a.fits\n",
      "Modifying header cards for rawtag file: /home/marijana/ReductionCOS/darksall/lcr96yy2q_rawtag_a.fits\n",
      "Modifying header cards for rawtag file: /home/marijana/ReductionCOS/darksall/lcr9bdd1q_rawtag_b.fits\n",
      "Modifying header cards for rawtag file: /home/marijana/ReductionCOS/darksall/ld0x2uehq_rawtag_a.fits\n",
      "Modifying header cards for rawtag file: /home/marijana/ReductionCOS/darksall/ld0x28ggq_rawtag_b.fits\n",
      "Modifying header cards for rawtag file: /home/marijana/ReductionCOS/darksall/ld0x6te4q_rawtag_b.fits\n",
      "Modifying header cards for rawtag file: /home/marijana/ReductionCOS/darksall/ld0x4mg0q_rawtag_a.fits\n",
      "Modifying header cards for rawtag file: /home/marijana/ReductionCOS/darksall/ld0x25ffq_rawtag_a.fits\n",
      "Modifying header cards for rawtag file: /home/marijana/ReductionCOS/darksall/lcr9bvbkq_rawtag_b.fits\n",
      "Modifying header cards for rawtag file: /home/marijana/ReductionCOS/darksall/ld0x5ud1q_rawtag_b.fits\n",
      "Modifying header cards for rawtag file: /home/marijana/ReductionCOS/darksall/ld0x67giq_rawtag_a.fits\n",
      "Modifying header cards for rawtag file: /home/marijana/ReductionCOS/darksall/lcr96kuqq_rawtag_a.fits\n",
      "Modifying header cards for rawtag file: /home/marijana/ReductionCOS/darksall/lcr9bjeuq_rawtag_b.fits\n",
      "Modifying header cards for rawtag file: /home/marijana/ReductionCOS/darksall/lcr970zvq_rawtag_a.fits\n",
      "Modifying header cards for rawtag file: /home/marijana/ReductionCOS/darksall/ld0x5fbjq_rawtag_a.fits\n",
      "Modifying header cards for rawtag file: /home/marijana/ReductionCOS/darksall/ld0x55isq_rawtag_b.fits\n",
      "Modifying header cards for rawtag file: /home/marijana/ReductionCOS/darksall/ld0x5qbsq_rawtag_b.fits\n",
      "Modifying header cards for rawtag file: /home/marijana/ReductionCOS/darksall/lcr96hcyq_rawtag_b.fits\n",
      "Modifying header cards for rawtag file: /home/marijana/ReductionCOS/darksall/ld0x3pbpq_rawtag_a.fits\n",
      "Modifying header cards for rawtag file: /home/marijana/ReductionCOS/darksall/ld0x2qicq_rawtag_a.fits\n",
      "Modifying header cards for rawtag file: /home/marijana/ReductionCOS/darksall/ld0x3gmbq_rawtag_a.fits\n",
      "Modifying header cards for rawtag file: /home/marijana/ReductionCOS/darksall/ld0x02d7q_rawtag_a.fits\n",
      "Modifying header cards for rawtag file: /home/marijana/ReductionCOS/darksall/ld0x32gmq_rawtag_b.fits\n",
      "Modifying header cards for rawtag file: /home/marijana/ReductionCOS/darksall/ld0x3td8q_rawtag_b.fits\n",
      "Modifying header cards for rawtag file: /home/marijana/ReductionCOS/darksall/ld0x6mk0q_rawtag_a.fits\n",
      "Modifying header cards for rawtag file: /home/marijana/ReductionCOS/darksall/ld0x0qa7q_rawtag_a.fits\n",
      "Modifying header cards for rawtag file: /home/marijana/ReductionCOS/darksall/ld0x0xk9q_rawtag_a.fits\n",
      "Modifying header cards for rawtag file: /home/marijana/ReductionCOS/darksall/ld0x3lwgq_rawtag_a.fits\n",
      "Modifying header cards for rawtag file: /home/marijana/ReductionCOS/darksall/ld0x6bayq_rawtag_b.fits\n",
      "Modifying header cards for rawtag file: /home/marijana/ReductionCOS/darksall/ld0x5zeyq_rawtag_a.fits\n",
      "Modifying header cards for rawtag file: /home/marijana/ReductionCOS/darksall/lcr9b8leq_rawtag_a.fits\n",
      "Modifying header cards for rawtag file: /home/marijana/ReductionCOS/darksall/ld0x4gg9q_rawtag_b.fits\n",
      "Modifying header cards for rawtag file: /home/marijana/ReductionCOS/darksall/ld0x0cf1q_rawtag_a.fits\n",
      "Modifying header cards for rawtag file: /home/marijana/ReductionCOS/darksall/ld0x2sj9q_rawtag_a.fits\n",
      "Modifying header cards for rawtag file: /home/marijana/ReductionCOS/darksall/ld0x13zcq_rawtag_b.fits\n",
      "Modifying header cards for rawtag file: /home/marijana/ReductionCOS/darksall/ld0x1efyq_rawtag_b.fits\n",
      "Modifying header cards for rawtag file: /home/marijana/ReductionCOS/darksall/ld0x0oimq_rawtag_b.fits\n",
      "Modifying header cards for rawtag file: /home/marijana/ReductionCOS/darksall/ld0x56zwq_rawtag_a.fits\n",
      "Modifying header cards for rawtag file: /home/marijana/ReductionCOS/darksall/ld0x20iqq_rawtag_b.fits\n",
      "Modifying header cards for rawtag file: /home/marijana/ReductionCOS/darksall/lcr96scuq_rawtag_a.fits\n",
      "Modifying header cards for rawtag file: /home/marijana/ReductionCOS/darksall/lcr9bmebq_rawtag_b.fits\n",
      "Modifying header cards for rawtag file: /home/marijana/ReductionCOS/darksall/ld0x3elyq_rawtag_a.fits\n",
      "Modifying header cards for rawtag file: /home/marijana/ReductionCOS/darksall/ld0x5qbsq_rawtag_a.fits\n",
      "Modifying header cards for rawtag file: /home/marijana/ReductionCOS/darksall/ld0x33efq_rawtag_a.fits\n",
      "Modifying header cards for rawtag file: /home/marijana/ReductionCOS/darksall/ld0x0pj8q_rawtag_a.fits\n",
      "Modifying header cards for rawtag file: /home/marijana/ReductionCOS/darksall/ld0x18fjq_rawtag_a.fits\n",
      "Modifying header cards for rawtag file: /home/marijana/ReductionCOS/darksall/ld0x3sclq_rawtag_b.fits\n",
      "Modifying header cards for rawtag file: /home/marijana/ReductionCOS/darksall/ld0x1uaoq_rawtag_a.fits\n",
      "Modifying header cards for rawtag file: /home/marijana/ReductionCOS/darksall/ld0x6sdpq_rawtag_b.fits\n",
      "Modifying header cards for rawtag file: /home/marijana/ReductionCOS/darksall/lcr96nvuq_rawtag_a.fits\n",
      "Modifying header cards for rawtag file: /home/marijana/ReductionCOS/darksall/ld0x2hd4q_rawtag_b.fits\n",
      "Modifying header cards for rawtag file: /home/marijana/ReductionCOS/darksall/lcr96scuq_rawtag_b.fits\n",
      "Modifying header cards for rawtag file: /home/marijana/ReductionCOS/darksall/lcr974ejq_rawtag_a.fits\n",
      "Modifying header cards for rawtag file: /home/marijana/ReductionCOS/darksall/ld0x6ib9q_rawtag_b.fits\n",
      "Modifying header cards for rawtag file: /home/marijana/ReductionCOS/darksall/lcr963xfq_rawtag_a.fits\n",
      "Modifying header cards for rawtag file: /home/marijana/ReductionCOS/darksall/ld0x6gaxq_rawtag_b.fits\n",
      "Modifying header cards for rawtag file: /home/marijana/ReductionCOS/darksall/lcr9bvbkq_rawtag_a.fits\n",
      "Modifying header cards for rawtag file: /home/marijana/ReductionCOS/darksall/lcr9bwbyq_rawtag_a.fits\n",
      "Modifying header cards for rawtag file: /home/marijana/ReductionCOS/darksall/ld0x19foq_rawtag_a.fits\n",
      "Modifying header cards for rawtag file: /home/marijana/ReductionCOS/darksall/ld0x0ao1q_rawtag_b.fits\n",
      "Modifying header cards for rawtag file: /home/marijana/ReductionCOS/darksall/ld0x2gcxq_rawtag_a.fits\n",
      "Modifying header cards for rawtag file: /home/marijana/ReductionCOS/darksall/ld0x2xfpq_rawtag_b.fits\n",
      "Modifying header cards for rawtag file: /home/marijana/ReductionCOS/darksall/ld0x64agq_rawtag_a.fits\n",
      "Modifying header cards for rawtag file: /home/marijana/ReductionCOS/darksall/ld0x4lcoq_rawtag_a.fits\n",
      "Modifying header cards for rawtag file: /home/marijana/ReductionCOS/darksall/ld0x4yduq_rawtag_b.fits\n",
      "Modifying header cards for rawtag file: /home/marijana/ReductionCOS/darksall/ld0x0sb6q_rawtag_b.fits\n",
      "Modifying header cards for rawtag file: /home/marijana/ReductionCOS/darksall/ld0x2fnlq_rawtag_b.fits\n",
      "Modifying header cards for rawtag file: /home/marijana/ReductionCOS/darksall/ld0x17fhq_rawtag_a.fits\n",
      "Modifying header cards for rawtag file: /home/marijana/ReductionCOS/darksall/lcr9boixq_rawtag_a.fits\n",
      "Modifying header cards for rawtag file: /home/marijana/ReductionCOS/darksall/lcr973azq_rawtag_a.fits\n",
      "Modifying header cards for rawtag file: /home/marijana/ReductionCOS/darksall/ld0x49asq_rawtag_a.fits\n",
      "Modifying header cards for rawtag file: /home/marijana/ReductionCOS/darksall/ld0x39p8q_rawtag_b.fits\n",
      "Modifying header cards for rawtag file: /home/marijana/ReductionCOS/darksall/ld0x6mk0q_rawtag_b.fits\n",
      "Modifying header cards for rawtag file: /home/marijana/ReductionCOS/darksall/ld0x5rbvq_rawtag_b.fits\n",
      "Modifying header cards for rawtag file: /home/marijana/ReductionCOS/darksall/ld0x2ohbq_rawtag_a.fits\n",
      "Modifying header cards for rawtag file: /home/marijana/ReductionCOS/darksall/ld0x4lcoq_rawtag_b.fits\n",
      "Modifying header cards for rawtag file: /home/marijana/ReductionCOS/darksall/ld0x0ubjq_rawtag_b.fits\n",
      "Modifying header cards for rawtag file: /home/marijana/ReductionCOS/darksall/ld0x4ujbq_rawtag_b.fits\n",
      "Modifying header cards for rawtag file: /home/marijana/ReductionCOS/darksall/ld0x07m3q_rawtag_b.fits\n",
      "Modifying header cards for rawtag file: /home/marijana/ReductionCOS/darksall/ld0x3zn9q_rawtag_b.fits\n",
      "Modifying header cards for rawtag file: /home/marijana/ReductionCOS/darksall/ld0x43fmq_rawtag_a.fits\n",
      "Modifying header cards for rawtag file: /home/marijana/ReductionCOS/darksall/ld0x40ncq_rawtag_b.fits\n",
      "Modifying header cards for rawtag file: /home/marijana/ReductionCOS/darksall/ld0x1wawq_rawtag_a.fits\n",
      "Modifying header cards for rawtag file: /home/marijana/ReductionCOS/darksall/ld0x5wedq_rawtag_b.fits\n",
      "Modifying header cards for rawtag file: /home/marijana/ReductionCOS/darksall/ld0x0cf1q_rawtag_b.fits\n",
      "Modifying header cards for rawtag file: /home/marijana/ReductionCOS/darksall/ld0x2yepq_rawtag_b.fits\n",
      "Modifying header cards for rawtag file: /home/marijana/ReductionCOS/darksall/ld0x2liwq_rawtag_b.fits\n",
      "Modifying header cards for rawtag file: /home/marijana/ReductionCOS/darksall/lcr9b7l6q_rawtag_b.fits\n",
      "Modifying header cards for rawtag file: /home/marijana/ReductionCOS/darksall/ld0x0iayq_rawtag_a.fits\n",
      "Modifying header cards for rawtag file: /home/marijana/ReductionCOS/darksall/lcr96uwcq_rawtag_a.fits\n",
      "Modifying header cards for rawtag file: /home/marijana/ReductionCOS/darksall/lcr9bmebq_rawtag_a.fits\n",
      "Modifying header cards for rawtag file: /home/marijana/ReductionCOS/darksall/ld0x53idq_rawtag_a.fits\n",
      "Modifying header cards for rawtag file: /home/marijana/ReductionCOS/darksall/lcr975gvq_rawtag_a.fits\n",
      "Modifying header cards for rawtag file: /home/marijana/ReductionCOS/darksall/ld0x1cf2q_rawtag_a.fits\n",
      "Modifying header cards for rawtag file: /home/marijana/ReductionCOS/darksall/ld0x5ve7q_rawtag_b.fits\n",
      "Modifying header cards for rawtag file: /home/marijana/ReductionCOS/darksall/lcr9bwbyq_rawtag_b.fits\n",
      "Modifying header cards for rawtag file: /home/marijana/ReductionCOS/darksall/lcr971a2q_rawtag_a.fits\n",
      "Modifying header cards for rawtag file: /home/marijana/ReductionCOS/darksall/ld0x1aeoq_rawtag_a.fits\n",
      "Modifying header cards for rawtag file: /home/marijana/ReductionCOS/darksall/ld0x60xtq_rawtag_a.fits\n",
      "Modifying header cards for rawtag file: /home/marijana/ReductionCOS/darksall/ld0x35glq_rawtag_b.fits\n",
      "Modifying header cards for rawtag file: /home/marijana/ReductionCOS/darksall/ld0x4ujbq_rawtag_a.fits\n",
      "Modifying header cards for rawtag file: /home/marijana/ReductionCOS/darksall/lcr9brcbq_rawtag_b.fits\n",
      "Modifying header cards for rawtag file: /home/marijana/ReductionCOS/darksall/ld0x66g9q_rawtag_b.fits\n",
      "Modifying header cards for rawtag file: /home/marijana/ReductionCOS/darksall/ld0x4dezq_rawtag_a.fits\n",
      "Modifying header cards for rawtag file: /home/marijana/ReductionCOS/darksall/lcr966yzq_rawtag_a.fits\n",
      "Modifying header cards for rawtag file: /home/marijana/ReductionCOS/darksall/ld0x5bafq_rawtag_a.fits\n",
      "Modifying header cards for rawtag file: /home/marijana/ReductionCOS/darksall/ld0x6pcwq_rawtag_a.fits\n",
      "Modifying header cards for rawtag file: /home/marijana/ReductionCOS/darksall/ld0x3qbsq_rawtag_a.fits\n",
      "Modifying header cards for rawtag file: /home/marijana/ReductionCOS/darksall/lcr9bxc4q_rawtag_a.fits\n",
      "Modifying header cards for rawtag file: /home/marijana/ReductionCOS/darksall/ld0x45gkq_rawtag_a.fits\n",
      "Modifying header cards for rawtag file: /home/marijana/ReductionCOS/darksall/lcr978h9q_rawtag_a.fits\n",
      "Modifying header cards for rawtag file: /home/marijana/ReductionCOS/darksall/ld0x26fzq_rawtag_a.fits\n",
      "Modifying header cards for rawtag file: /home/marijana/ReductionCOS/darksall/ld0x4vjhq_rawtag_b.fits\n",
      "Modifying header cards for rawtag file: /home/marijana/ReductionCOS/darksall/ld0x0midq_rawtag_b.fits\n",
      "Modifying header cards for rawtag file: /home/marijana/ReductionCOS/darksall/lcr96yy2q_rawtag_b.fits\n",
      "Modifying header cards for rawtag file: /home/marijana/ReductionCOS/darksall/lcr9bieiq_rawtag_a.fits\n",
      "Modifying header cards for rawtag file: /home/marijana/ReductionCOS/darksall/lcr9b8leq_rawtag_b.fits\n",
      "Modifying header cards for rawtag file: /home/marijana/ReductionCOS/darksall/lcr96fcpq_rawtag_a.fits\n",
      "Modifying header cards for rawtag file: /home/marijana/ReductionCOS/darksall/ld0x51h9q_rawtag_b.fits\n",
      "Modifying header cards for rawtag file: /home/marijana/ReductionCOS/darksall/ld0x0ubjq_rawtag_a.fits\n",
      "Modifying header cards for rawtag file: /home/marijana/ReductionCOS/darksall/ld0x4cemq_rawtag_a.fits\n",
      "Modifying header cards for rawtag file: /home/marijana/ReductionCOS/darksall/ld0x0qa7q_rawtag_b.fits\n",
      "Modifying header cards for rawtag file: /home/marijana/ReductionCOS/darksall/ld0x1fa2q_rawtag_a.fits\n",
      "Modifying header cards for rawtag file: /home/marijana/ReductionCOS/darksall/ld0x11yiq_rawtag_a.fits\n",
      "Modifying header cards for rawtag file: /home/marijana/ReductionCOS/darksall/lcr9bye1q_rawtag_b.fits\n",
      "Modifying header cards for rawtag file: /home/marijana/ReductionCOS/darksall/ld0x5pewq_rawtag_b.fits\n",
      "Modifying header cards for rawtag file: /home/marijana/ReductionCOS/darksall/lcr9btcnq_rawtag_b.fits\n",
      "Modifying header cards for rawtag file: /home/marijana/ReductionCOS/darksall/ld0x6jbmq_rawtag_b.fits\n",
      "Modifying header cards for rawtag file: /home/marijana/ReductionCOS/darksall/ld0x2riyq_rawtag_b.fits\n",
      "Modifying header cards for rawtag file: /home/marijana/ReductionCOS/darksall/ld0x4dezq_rawtag_b.fits\n",
      "Modifying header cards for rawtag file: /home/marijana/ReductionCOS/darksall/ld0x0fgoq_rawtag_b.fits\n",
      "Modifying header cards for rawtag file: /home/marijana/ReductionCOS/darksall/ld0x56zwq_rawtag_b.fits\n",
      "Modifying header cards for rawtag file: /home/marijana/ReductionCOS/darksall/ld0x4og6q_rawtag_b.fits\n",
      "Modifying header cards for rawtag file: /home/marijana/ReductionCOS/darksall/ld0x4wc7q_rawtag_b.fits\n",
      "Modifying header cards for rawtag file: /home/marijana/ReductionCOS/darksall/lcr96uwcq_rawtag_b.fits\n",
      "Modifying header cards for rawtag file: /home/marijana/ReductionCOS/darksall/lcr96dbxq_rawtag_a.fits\n",
      "Modifying header cards for rawtag file: /home/marijana/ReductionCOS/darksall/ld0x5ve7q_rawtag_a.fits\n",
      "Modifying header cards for rawtag file: /home/marijana/ReductionCOS/darksall/ld0x0sb6q_rawtag_a.fits\n",
      "Modifying header cards for rawtag file: /home/marijana/ReductionCOS/darksall/lcr96dbxq_rawtag_b.fits\n",
      "Modifying header cards for rawtag file: /home/marijana/ReductionCOS/darksall/ld0x1wawq_rawtag_b.fits\n",
      "Modifying header cards for rawtag file: /home/marijana/ReductionCOS/darksall/ld0x57akq_rawtag_a.fits\n",
      "Modifying header cards for rawtag file: /home/marijana/ReductionCOS/darksall/ld0x6nk8q_rawtag_a.fits\n",
      "Modifying header cards for rawtag file: /home/marijana/ReductionCOS/darksall/ld0x4kckq_rawtag_a.fits\n",
      "Modifying header cards for rawtag file: /home/marijana/ReductionCOS/darksall/ld0x0zkmq_rawtag_b.fits\n",
      "Modifying header cards for rawtag file: /home/marijana/ReductionCOS/darksall/ld0x5kbpq_rawtag_b.fits\n",
      "Modifying header cards for rawtag file: /home/marijana/ReductionCOS/darksall/ld0x1jbmq_rawtag_a.fits\n",
      "Modifying header cards for rawtag file: /home/marijana/ReductionCOS/darksall/lcr962x7q_rawtag_a.fits\n",
      "Modifying header cards for rawtag file: /home/marijana/ReductionCOS/darksall/lcr963xfq_rawtag_b.fits\n",
      "Modifying header cards for rawtag file: /home/marijana/ReductionCOS/darksall/ld0x1yb1q_rawtag_a.fits\n",
      "Modifying header cards for rawtag file: /home/marijana/ReductionCOS/darksall/lcr977h3q_rawtag_a.fits\n",
      "Modifying header cards for rawtag file: /home/marijana/ReductionCOS/darksall/lcr96zymq_rawtag_a.fits\n",
      "Modifying header cards for rawtag file: /home/marijana/ReductionCOS/darksall/ld0x0jb5q_rawtag_a.fits\n",
      "Modifying header cards for rawtag file: /home/marijana/ReductionCOS/darksall/ld0x0beyq_rawtag_a.fits\n",
      "Modifying header cards for rawtag file: /home/marijana/ReductionCOS/darksall/ld0x36gsq_rawtag_a.fits\n",
      "Modifying header cards for rawtag file: /home/marijana/ReductionCOS/darksall/ld0x69gyq_rawtag_b.fits\n",
      "Modifying header cards for rawtag file: /home/marijana/ReductionCOS/darksall/ld0x0ykkq_rawtag_b.fits\n",
      "Modifying header cards for rawtag file: /home/marijana/ReductionCOS/darksall/lcr9bhebq_rawtag_a.fits\n",
      "Modifying header cards for rawtag file: /home/marijana/ReductionCOS/darksall/ld0x24eoq_rawtag_a.fits\n",
      "Modifying header cards for rawtag file: /home/marijana/ReductionCOS/darksall/ld0x42f6q_rawtag_b.fits\n",
      "Modifying header cards for rawtag file: /home/marijana/ReductionCOS/darksall/ld0x0fgoq_rawtag_a.fits\n",
      "Modifying header cards for rawtag file: /home/marijana/ReductionCOS/darksall/lcr96qbsq_rawtag_b.fits\n",
      "Modifying header cards for rawtag file: /home/marijana/ReductionCOS/darksall/ld0x61y4q_rawtag_b.fits\n",
      "Modifying header cards for rawtag file: /home/marijana/ReductionCOS/darksall/ld0x3dl4q_rawtag_a.fits\n",
      "Modifying header cards for rawtag file: /home/marijana/ReductionCOS/darksall/ld0x6hb7q_rawtag_a.fits\n",
      "Modifying header cards for rawtag file: /home/marijana/ReductionCOS/darksall/ld0x5ldcq_rawtag_a.fits\n",
      "Modifying header cards for rawtag file: /home/marijana/ReductionCOS/darksall/ld0x1xazq_rawtag_a.fits\n",
      "Modifying header cards for rawtag file: /home/marijana/ReductionCOS/darksall/ld0x50e0q_rawtag_a.fits\n",
      "Modifying header cards for rawtag file: /home/marijana/ReductionCOS/darksall/ld0x1ibfq_rawtag_a.fits\n",
      "Modifying header cards for rawtag file: /home/marijana/ReductionCOS/darksall/ld0x0ykkq_rawtag_a.fits\n",
      "Modifying header cards for rawtag file: /home/marijana/ReductionCOS/darksall/ld0x29zsq_rawtag_b.fits\n",
      "Modifying header cards for rawtag file: /home/marijana/ReductionCOS/darksall/lcr9b7l6q_rawtag_a.fits\n",
      "Modifying header cards for rawtag file: /home/marijana/ReductionCOS/darksall/lcr96id1q_rawtag_b.fits\n",
      "Modifying header cards for rawtag file: /home/marijana/ReductionCOS/darksall/ld0x6rdnq_rawtag_a.fits\n",
      "Modifying header cards for rawtag file: /home/marijana/ReductionCOS/darksall/ld0x61y4q_rawtag_a.fits\n",
      "Modifying header cards for rawtag file: /home/marijana/ReductionCOS/darksall/ld0x3vdlq_rawtag_b.fits\n",
      "Modifying header cards for rawtag file: /home/marijana/ReductionCOS/darksall/ld0x54ilq_rawtag_b.fits\n",
      "Modifying header cards for rawtag file: /home/marijana/ReductionCOS/darksall/ld0x5rbvq_rawtag_a.fits\n",
      "Modifying header cards for rawtag file: /home/marijana/ReductionCOS/darksall/ld0x0egdq_rawtag_a.fits\n",
      "Modifying header cards for rawtag file: /home/marijana/ReductionCOS/darksall/ld0x6aapq_rawtag_a.fits\n",
      "Modifying header cards for rawtag file: /home/marijana/ReductionCOS/darksall/ld0x69gyq_rawtag_a.fits\n",
      "Modifying header cards for rawtag file: /home/marijana/ReductionCOS/darksall/ld0x2idbq_rawtag_a.fits\n",
      "Modifying header cards for rawtag file: /home/marijana/ReductionCOS/darksall/ld0x0xk9q_rawtag_b.fits\n",
      "Modifying header cards for rawtag file: /home/marijana/ReductionCOS/darksall/ld0x2balq_rawtag_b.fits\n",
      "Modifying header cards for rawtag file: /home/marijana/ReductionCOS/darksall/ld0x6rdnq_rawtag_b.fits\n",
      "Modifying header cards for rawtag file: /home/marijana/ReductionCOS/darksall/lcr96ab5q_rawtag_b.fits\n",
      "Modifying header cards for rawtag file: /home/marijana/ReductionCOS/darksall/ld0x02d7q_rawtag_b.fits\n",
      "Modifying header cards for rawtag file: /home/marijana/ReductionCOS/darksall/ld0x30fsq_rawtag_b.fits\n",
      "Modifying header cards for rawtag file: /home/marijana/ReductionCOS/darksall/lcr96pasq_rawtag_b.fits\n",
      "Modifying header cards for rawtag file: /home/marijana/ReductionCOS/darksall/ld0x26fzq_rawtag_b.fits\n",
      "Modifying header cards for rawtag file: /home/marijana/ReductionCOS/darksall/lcr96tf2q_rawtag_b.fits\n",
      "Modifying header cards for rawtag file: /home/marijana/ReductionCOS/darksall/ld0x63z1q_rawtag_a.fits\n",
      "Modifying header cards for rawtag file: /home/marijana/ReductionCOS/darksall/ld0x1nikq_rawtag_a.fits\n",
      "Modifying header cards for rawtag file: /home/marijana/ReductionCOS/darksall/lcr960uaq_rawtag_b.fits\n",
      "Modifying header cards for rawtag file: /home/marijana/ReductionCOS/darksall/lcr96cbiq_rawtag_a.fits\n",
      "Modifying header cards for rawtag file: /home/marijana/ReductionCOS/darksall/ld0x4ic3q_rawtag_b.fits\n",
      "Modifying header cards for rawtag file: /home/marijana/ReductionCOS/darksall/ld0x1ga8q_rawtag_b.fits\n",
      "Modifying header cards for rawtag file: /home/marijana/ReductionCOS/darksall/lcr9ble1q_rawtag_b.fits\n",
      "Modifying header cards for rawtag file: /home/marijana/ReductionCOS/darksall/ld0x6okvq_rawtag_b.fits\n",
      "Modifying header cards for rawtag file: /home/marijana/ReductionCOS/darksall/lcr961utq_rawtag_a.fits\n",
      "Modifying header cards for rawtag file: /home/marijana/ReductionCOS/darksall/ld0x5nepq_rawtag_a.fits\n",
      "Modifying header cards for rawtag file: /home/marijana/ReductionCOS/darksall/lcr9bhebq_rawtag_b.fits\n",
      "Modifying header cards for rawtag file: /home/marijana/ReductionCOS/darksall/ld0x2idbq_rawtag_b.fits\n",
      "Modifying header cards for rawtag file: /home/marijana/ReductionCOS/darksall/ld0x1zhyq_rawtag_b.fits\n",
      "Modifying header cards for rawtag file: /home/marijana/ReductionCOS/darksall/lcr9bscdq_rawtag_b.fits\n",
      "Modifying header cards for rawtag file: /home/marijana/ReductionCOS/darksall/ld0x4tj5q_rawtag_b.fits\n",
      "Modifying header cards for rawtag file: /home/marijana/ReductionCOS/darksall/lcr9bge4q_rawtag_a.fits\n",
      "Modifying header cards for rawtag file: /home/marijana/ReductionCOS/darksall/ld0x0lhrq_rawtag_a.fits\n",
      "Modifying header cards for rawtag file: /home/marijana/ReductionCOS/darksall/ld0x14zeq_rawtag_a.fits\n",
      "Modifying header cards for rawtag file: /home/marijana/ReductionCOS/darksall/ld0x3iuyq_rawtag_a.fits\n",
      "Modifying header cards for rawtag file: /home/marijana/ReductionCOS/darksall/ld0x3gmbq_rawtag_b.fits\n",
      "Modifying header cards for rawtag file: /home/marijana/ReductionCOS/darksall/ld0x38nvq_rawtag_b.fits\n",
      "Modifying header cards for rawtag file: /home/marijana/ReductionCOS/darksall/ld0x2phmq_rawtag_a.fits\n",
      "Modifying header cards for rawtag file: /home/marijana/ReductionCOS/darksall/ld0x3hmeq_rawtag_a.fits\n",
      "Modifying header cards for rawtag file: /home/marijana/ReductionCOS/darksall/ld0x2zf9q_rawtag_b.fits\n",
      "Modifying header cards for rawtag file: /home/marijana/ReductionCOS/darksall/ld0x4efuq_rawtag_a.fits\n",
      "Modifying header cards for rawtag file: /home/marijana/ReductionCOS/darksall/ld0x3kw8q_rawtag_a.fits\n",
      "Modifying header cards for rawtag file: /home/marijana/ReductionCOS/darksall/ld0x3rc4q_rawtag_a.fits\n",
      "Modifying header cards for rawtag file: /home/marijana/ReductionCOS/darksall/ld0x5wedq_rawtag_a.fits\n",
      "Modifying header cards for rawtag file: /home/marijana/ReductionCOS/darksall/ld0x0pj8q_rawtag_b.fits\n",
      "Modifying header cards for rawtag file: /home/marijana/ReductionCOS/darksall/lcr965yvq_rawtag_a.fits\n",
      "Modifying header cards for rawtag file: /home/marijana/ReductionCOS/darksall/lcr96vwkq_rawtag_a.fits\n",
      "Modifying header cards for rawtag file: /home/marijana/ReductionCOS/darksall/ld0x3udiq_rawtag_b.fits\n",
      "Modifying header cards for rawtag file: /home/marijana/ReductionCOS/darksall/ld0x1lcjq_rawtag_b.fits\n",
      "Modifying header cards for rawtag file: /home/marijana/ReductionCOS/darksall/ld0x57akq_rawtag_b.fits\n",
      "Modifying header cards for rawtag file: /home/marijana/ReductionCOS/darksall/ld0x2hd4q_rawtag_a.fits\n",
      "Modifying header cards for rawtag file: /home/marijana/ReductionCOS/darksall/lcr96xxlq_rawtag_b.fits\n",
      "Modifying header cards for rawtag file: /home/marijana/ReductionCOS/darksall/ld0x63z1q_rawtag_b.fits\n",
      "Modifying header cards for rawtag file: /home/marijana/ReductionCOS/darksall/ld0x31ghq_rawtag_a.fits\n",
      "Modifying header cards for rawtag file: /home/marijana/ReductionCOS/darksall/ld0x1bevq_rawtag_a.fits\n",
      "Modifying header cards for rawtag file: /home/marijana/ReductionCOS/darksall/ld0x2liwq_rawtag_a.fits\n",
      "Modifying header cards for rawtag file: /home/marijana/ReductionCOS/darksall/ld0x0jb5q_rawtag_b.fits\n",
      "Modifying header cards for rawtag file: /home/marijana/ReductionCOS/darksall/ld0x3mwtq_rawtag_b.fits\n",
      "Modifying header cards for rawtag file: /home/marijana/ReductionCOS/darksall/lcr96hcyq_rawtag_a.fits\n",
      "Modifying header cards for rawtag file: /home/marijana/ReductionCOS/darksall/ld0x4ic3q_rawtag_a.fits\n",
      "Modifying header cards for rawtag file: /home/marijana/ReductionCOS/darksall/ld0x6dbvq_rawtag_a.fits\n",
      "Modifying header cards for rawtag file: /home/marijana/ReductionCOS/darksall/ld0x6ib9q_rawtag_a.fits\n",
      "Modifying header cards for rawtag file: /home/marijana/ReductionCOS/darksall/ld0x3cpqq_rawtag_b.fits\n",
      "Modifying header cards for rawtag file: /home/marijana/ReductionCOS/darksall/ld0x0wjyq_rawtag_b.fits\n",
      "Modifying header cards for rawtag file: /home/marijana/ReductionCOS/darksall/ld0x3dl4q_rawtag_b.fits\n",
      "Modifying header cards for rawtag file: /home/marijana/ReductionCOS/darksall/ld0x2qicq_rawtag_b.fits\n",
      "Modifying header cards for rawtag file: /home/marijana/ReductionCOS/darksall/ld0x01cqq_rawtag_b.fits\n",
      "Modifying header cards for rawtag file: /home/marijana/ReductionCOS/darksall/ld0x58b7q_rawtag_b.fits\n",
      "Modifying header cards for rawtag file: /home/marijana/ReductionCOS/darksall/ld0x5yesq_rawtag_a.fits\n",
      "Modifying header cards for rawtag file: /home/marijana/ReductionCOS/darksall/ld0x4sigq_rawtag_b.fits\n",
      "Modifying header cards for rawtag file: /home/marijana/ReductionCOS/darksall/ld0x2miyq_rawtag_b.fits\n",
      "Modifying header cards for rawtag file: /home/marijana/ReductionCOS/darksall/ld0x31ghq_rawtag_b.fits\n",
      "Modifying header cards for rawtag file: /home/marijana/ReductionCOS/darksall/ld0x5xegq_rawtag_b.fits\n",
      "Modifying header cards for rawtag file: /home/marijana/ReductionCOS/darksall/ld0x10xrq_rawtag_b.fits\n",
      "Modifying header cards for rawtag file: /home/marijana/ReductionCOS/darksall/ld0x0ragq_rawtag_a.fits\n",
      "Modifying header cards for rawtag file: /home/marijana/ReductionCOS/darksall/ld0x3sclq_rawtag_a.fits\n",
      "Modifying header cards for rawtag file: /home/marijana/ReductionCOS/darksall/lcr9bubbq_rawtag_a.fits\n",
      "Modifying header cards for rawtag file: /home/marijana/ReductionCOS/darksall/ld0x65fkq_rawtag_a.fits\n",
      "Modifying header cards for rawtag file: /home/marijana/ReductionCOS/darksall/ld0x1thkq_rawtag_a.fits\n",
      "Modifying header cards for rawtag file: /home/marijana/ReductionCOS/darksall/ld0x0vivq_rawtag_b.fits\n",
      "Modifying header cards for rawtag file: /home/marijana/ReductionCOS/darksall/ld0x4ri8q_rawtag_a.fits\n",
      "Modifying header cards for rawtag file: /home/marijana/ReductionCOS/darksall/ld0x41nlq_rawtag_b.fits\n",
      "Modifying header cards for rawtag file: /home/marijana/ReductionCOS/darksall/ld0x06l1q_rawtag_a.fits\n",
      "Modifying header cards for rawtag file: /home/marijana/ReductionCOS/darksall/ld0x3xmyq_rawtag_b.fits\n",
      "Modifying header cards for rawtag file: /home/marijana/ReductionCOS/darksall/ld0x5abjq_rawtag_a.fits\n",
      "Modifying header cards for rawtag file: /home/marijana/ReductionCOS/darksall/lcr977h3q_rawtag_b.fits\n",
      "Modifying header cards for rawtag file: /home/marijana/ReductionCOS/darksall/ld0x1qgdq_rawtag_a.fits\n",
      "Modifying header cards for rawtag file: /home/marijana/ReductionCOS/darksall/ld0x5gahq_rawtag_a.fits\n",
      "Modifying header cards for rawtag file: /home/marijana/ReductionCOS/darksall/ld0x38nvq_rawtag_a.fits\n",
      "Modifying header cards for rawtag file: /home/marijana/ReductionCOS/darksall/lcr967z8q_rawtag_b.fits\n",
      "Modifying header cards for rawtag file: /home/marijana/ReductionCOS/darksall/ld0x5kbpq_rawtag_a.fits\n",
      "Modifying header cards for rawtag file: /home/marijana/ReductionCOS/darksall/ld0x4wc7q_rawtag_a.fits\n",
      "Modifying header cards for rawtag file: /home/marijana/ReductionCOS/darksall/ld0x1efyq_rawtag_a.fits\n",
      "Modifying header cards for rawtag file: /home/marijana/ReductionCOS/darksall/ld0x2miyq_rawtag_a.fits\n",
      "Modifying header cards for rawtag file: /home/marijana/ReductionCOS/darksall/ld0x65fkq_rawtag_b.fits\n",
      "Modifying header cards for rawtag file: /home/marijana/ReductionCOS/darksall/ld0x5yesq_rawtag_b.fits\n",
      "Modifying header cards for rawtag file: /home/marijana/ReductionCOS/darksall/ld0x5ud1q_rawtag_a.fits\n",
      "Modifying header cards for rawtag file: /home/marijana/ReductionCOS/darksall/ld0x11yiq_rawtag_b.fits\n",
      "Modifying header cards for rawtag file: /home/marijana/ReductionCOS/darksall/ld0x5dbeq_rawtag_a.fits\n",
      "Modifying header cards for rawtag file: /home/marijana/ReductionCOS/darksall/lcr969zjq_rawtag_a.fits\n",
      "Modifying header cards for rawtag file: /home/marijana/ReductionCOS/darksall/ld0x44gaq_rawtag_a.fits\n"
     ]
    }
   ],
   "source": [
    "cr_utils.modify_rawtag_for_calcos(rdx_path+dark_folder)"
   ]
  },
  {
   "cell_type": "markdown",
   "metadata": {
    "collapsed": true
   },
   "source": [
    "### Generate darks script"
   ]
  },
  {
   "cell_type": "markdown",
   "metadata": {},
   "source": [
    "### Find voltages that darks have "
   ]
  },
  {
   "cell_type": "markdown",
   "metadata": {
    "collapsed": true
   },
   "source": [
    "## Measure Background"
   ]
  },
  {
   "cell_type": "markdown",
   "metadata": {},
   "source": [
    "### Set background region\n",
    "    Set chk=True to show plots\n",
    "    Iterate as needed"
   ]
  },
  {
   "cell_type": "code",
   "execution_count": 16,
   "metadata": {
    "collapsed": false
   },
   "outputs": [],
   "source": [
    "# Read traces (if needed)\n",
    "traces_a = cr_io.read_traces(rdx_path+science_folder+root_out+'_coaddcorr_woPHA_a.fits')\n",
    "traces_b = cr_io.read_traces(rdx_path+science_folder+root_out+'_coaddcorr_woPHA_b.fits')"
   ]
  },
  {
   "cell_type": "code",
   "execution_count": 17,
   "metadata": {
    "collapsed": false
   },
   "outputs": [
    {
     "data": {
      "text/plain": [
       "({u'lower': (1200.0, 2445.5107, 431.1351318359375, 381.1351318359375),\n",
       "  u'upper': (1200.0, 2445.5107, 491.1351318359375, 541.1351318359375)},\n",
       " {u'lower': (50.0, 1209.924, 490.27716064453125, 440.27716064453125)})"
      ]
     },
     "execution_count": 17,
     "metadata": {},
     "output_type": "execute_result"
    }
   ],
   "source": [
    "reload(cr_darks)\n",
    "chk = True\n",
    "bg_region_a = cr_darks.set_background_region(traces_a[0], 'FUVA', rdx_path+science_folder+root_out+'_coaddcorr_woPHA_a.fits', check=chk)\n",
    "bg_region_b = cr_darks.set_background_region(traces_b[0], 'FUVB', rdx_path+science_folder+root_out+'_coaddcorr_woPHA_b.fits', check=chk)\n",
    "bg_region_a, bg_region_b"
   ]
  },
  {
   "cell_type": "markdown",
   "metadata": {},
   "source": [
    "### Loop on Exposures without PHA\n",
    "    Will generate background spectra, one per exposure per segment\n",
    "    Below we only do FUVA"
   ]
  },
  {
   "cell_type": "code",
   "execution_count": 18,
   "metadata": {
    "collapsed": false
   },
   "outputs": [
    {
     "data": {
      "text/plain": [
       "['/Users/xavier/HST/COS/LRG_Redux/LCYA01010/lcya01fyq_corrtag_woPHA_a.fits',\n",
       " '/Users/xavier/HST/COS/LRG_Redux/LCYA01010/lcya01g0q_corrtag_woPHA_a.fits',\n",
       " '/Users/xavier/HST/COS/LRG_Redux/LCYA01010/lcya01ggq_corrtag_woPHA_a.fits',\n",
       " '/Users/xavier/HST/COS/LRG_Redux/LCYA01010/lcya01gjq_corrtag_woPHA_a.fits']"
      ]
     },
     "execution_count": 18,
     "metadata": {},
     "output_type": "execute_result"
    }
   ],
   "source": [
    "corrtag_woPHA_a = glob.glob(rdx_path+science_folder + '*_corrtag_woPHA_a.fits')\n",
    "corrtag_woPHA_a"
   ]
  },
  {
   "cell_type": "code",
   "execution_count": 77,
   "metadata": {
    "collapsed": false
   },
   "outputs": [
    {
     "name": "stdout",
     "output_type": "stream",
     "text": [
      "HVA=167 and HVB=169 in file /Users/xavier/HST/COS/LRG_Redux/LCYA01010/lcya01fyq_corrtag_woPHA_a.fits\n",
      "HVA=167 and HVB=169 in file /Users/xavier/HST/COS/LRG_Redux/LCYA01010/lcya01g0q_corrtag_woPHA_a.fits\n",
      "HVA=167 and HVB=169 in file /Users/xavier/HST/COS/LRG_Redux/LCYA01010/lcya01ggq_corrtag_woPHA_a.fits\n",
      "HVA=167 and HVB=169 in file /Users/xavier/HST/COS/LRG_Redux/LCYA01010/lcya01gjq_corrtag_woPHA_a.fits\n",
      "Working on exposure: /Users/xavier/HST/COS/LRG_Redux/LCYA01010/lcya01fyq_corrtag_woPHA_a.fits\n",
      "Matching darks to the exposure\n",
      "We have 14 darks to use\n",
      "Wrote outfile /Users/xavier/HST/COS/LRG_Redux/LCYA01010/darks_a/a_167/lcya01fyq_darks.fits\n",
      "Will use scale factor = 0.079273\n",
      "Extracting..\n",
      "Wrote background spectrum to /Users/xavier/HST/COS/LRG_Redux/LCYA01010/lcya01fyq_a_bkgd.fits\n",
      "Working on exposure: /Users/xavier/HST/COS/LRG_Redux/LCYA01010/lcya01g0q_corrtag_woPHA_a.fits\n",
      "Matching darks to the exposure\n",
      "We have 25 darks to use\n",
      "Wrote outfile /Users/xavier/HST/COS/LRG_Redux/LCYA01010/darks_a/a_167/lcya01g0q_darks.fits\n",
      "Will use scale factor = 0.0378727\n",
      "Extracting..\n",
      "Wrote background spectrum to /Users/xavier/HST/COS/LRG_Redux/LCYA01010/lcya01g0q_a_bkgd.fits\n",
      "Working on exposure: /Users/xavier/HST/COS/LRG_Redux/LCYA01010/lcya01ggq_corrtag_woPHA_a.fits\n",
      "Matching darks to the exposure\n",
      "We have 31 darks to use\n",
      "Wrote outfile /Users/xavier/HST/COS/LRG_Redux/LCYA01010/darks_a/a_167/lcya01ggq_darks.fits\n",
      "Will use scale factor = 0.0450641\n",
      "Extracting..\n",
      "Wrote background spectrum to /Users/xavier/HST/COS/LRG_Redux/LCYA01010/lcya01ggq_a_bkgd.fits\n",
      "Working on exposure: /Users/xavier/HST/COS/LRG_Redux/LCYA01010/lcya01gjq_corrtag_woPHA_a.fits\n",
      "Matching darks to the exposure\n",
      "We have 22 darks to use\n",
      "Wrote outfile /Users/xavier/HST/COS/LRG_Redux/LCYA01010/darks_a/a_167/lcya01gjq_darks.fits\n",
      "Will use scale factor = 0.0571152\n",
      "Extracting..\n",
      "Wrote background spectrum to /Users/xavier/HST/COS/LRG_Redux/LCYA01010/lcya01gjq_a_bkgd.fits\n"
     ]
    }
   ],
   "source": [
    "reload(cr_darks)\n",
    "cr_darks.dark_to_exposures(corrtag_woPHA_a, bg_region_a, traces_a[0], 'FUVA', defaults)"
   ]
  },
  {
   "cell_type": "markdown",
   "metadata": {},
   "source": [
    "### Coadd"
   ]
  },
  {
   "cell_type": "code",
   "execution_count": 69,
   "metadata": {
    "collapsed": true
   },
   "outputs": [],
   "source": [
    "x1d_files = glob.glob(rdx_path+science_folder + '*_x1d.fits')"
   ]
  },
  {
   "cell_type": "code",
   "execution_count": 81,
   "metadata": {
    "collapsed": false
   },
   "outputs": [
    {
     "name": "stdout",
     "output_type": "stream",
     "text": [
      "Wrote /Users/xavier/HST/COS/LRG_Redux/LCYA01010/LCYA01010_coadd.fits\n"
     ]
    }
   ],
   "source": [
    "reload(cr_science)\n",
    "cr_science.coadd_exposures(x1d_files, 'FUVA', rdx_path+science_folder+'LCYA01010_coadd.fits')"
   ]
  },
  {
   "cell_type": "code",
   "execution_count": null,
   "metadata": {
    "collapsed": true
   },
   "outputs": [],
   "source": []
  }
 ],
 "metadata": {
  "anaconda-cloud": {},
  "kernelspec": {
   "display_name": "Python 2",
   "language": "python",
   "name": "python2"
  },
  "language_info": {
   "codemirror_mode": {
    "name": "ipython",
    "version": 2
   },
   "file_extension": ".py",
   "mimetype": "text/x-python",
   "name": "python",
   "nbconvert_exporter": "python",
   "pygments_lexer": "ipython2",
   "version": "2.7.11"
  }
 },
 "nbformat": 4,
 "nbformat_minor": 0
}
