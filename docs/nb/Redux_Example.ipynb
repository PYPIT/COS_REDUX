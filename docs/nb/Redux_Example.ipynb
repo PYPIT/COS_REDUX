{
 "cells": [
  {
   "cell_type": "markdown",
   "metadata": {},
   "source": [
    "# Work through the reduction of a single dataset"
   ]
  },
  {
   "cell_type": "code",
   "execution_count": 1,
   "metadata": {
    "collapsed": true
   },
   "outputs": [],
   "source": [
    "# imports\n",
    "import os\n",
    "import glob\n",
    "from imp import reload\n",
    "\n",
    "from cosredux import utils as cr_utils\n",
    "from cosredux import trace as cr_trace"
   ]
  },
  {
   "cell_type": "markdown",
   "metadata": {},
   "source": [
    "## Setup files\n",
    "    Copy files from Dropbox to local, working folder\n",
    "    cd 'working_folder'\n",
    "    # Darks, if needed\n",
    "    cp -rp ~/Dropbox/COS-LRG/darksall .\n",
    "    # Calibs, as needed\n",
    "    cp -rp ~/Dropbox/COS-LRG/calibfilesmast .\n",
    "    # Subset of the raw and object calibration files\n",
    "    mkdir LCYA01010\n",
    "    cd LCYA01010\n",
    "    cp -rp ~/Dropbox/COS-LRG/LCYA01010/*rawtag* .\n",
    "    cp -rp ~/Dropbox/COS-LRG/LCYA01010/lcya01010_asn.fits .\n",
    "    cp -rp ~/Dropbox/COS-LRG/LCYA01010/lcya01010_trl.fits .\n",
    "    cp -rp ~/Dropbox/COS-LRG/LCYA01010/lcya01010_j*.fits ."
   ]
  },
  {
   "cell_type": "code",
   "execution_count": 2,
   "metadata": {
    "collapsed": true
   },
   "outputs": [],
   "source": [
    "#rdx_path = '/Users/xavier/HST/COS/LRG_Redux/'\n",
    "rdx_path = '/home/marijana/ReductionCOS/'\n",
    "science_folder = 'LCYA01010/'\n",
    "dark_folder = 'darks/'\n",
    "calib_folder = 'calibfilesmast/'\n",
    "root_out = 'lcya01010'"
   ]
  },
  {
   "cell_type": "markdown",
   "metadata": {},
   "source": [
    "## Customize for calcos\n",
    "    Science frames\n",
    "    LP2 calib file"
   ]
  },
  {
   "cell_type": "markdown",
   "metadata": {},
   "source": [
    "### Science frames"
   ]
  },
  {
   "cell_type": "code",
   "execution_count": 3,
   "metadata": {
    "collapsed": false
   },
   "outputs": [
    {
     "name": "stdout",
     "output_type": "stream",
     "text": [
      "Modifying header cards for rawtag file: /home/marijana/ReductionCOS/LCYA01010/lcya01ggq_rawtag_a.fits\n",
      "Modifying header cards for rawtag file: /home/marijana/ReductionCOS/LCYA01010/lcya01fyq_rawtag_a.fits\n",
      "Modifying header cards for rawtag file: /home/marijana/ReductionCOS/LCYA01010/lcya01ggq_rawtag_b.fits\n",
      "Modifying header cards for rawtag file: /home/marijana/ReductionCOS/LCYA01010/lcya01g0q_rawtag_b.fits\n",
      "Modifying header cards for rawtag file: /home/marijana/ReductionCOS/LCYA01010/lcya01gjq_rawtag_a.fits\n",
      "Modifying header cards for rawtag file: /home/marijana/ReductionCOS/LCYA01010/lcya01fyq_rawtag_b.fits\n",
      "Modifying header cards for rawtag file: /home/marijana/ReductionCOS/LCYA01010/lcya01gjq_rawtag_b.fits\n",
      "Modifying header cards for rawtag file: /home/marijana/ReductionCOS/LCYA01010/lcya01g0q_rawtag_a.fits\n"
     ]
    }
   ],
   "source": [
    "cr_utils.modify_rawtag_for_calcos(rdx_path+science_folder)"
   ]
  },
  {
   "cell_type": "markdown",
   "metadata": {},
   "source": [
    "### Calibs -- May not need to repeat this (i.e. if done before)"
   ]
  },
  {
   "cell_type": "code",
   "execution_count": 4,
   "metadata": {
    "collapsed": false
   },
   "outputs": [
    {
     "name": "stderr",
     "output_type": "stream",
     "text": [
      "WARNING: UnitsWarning: The unit 'angstrom' has been deprecated in the FITS standard. Suggested: 10**-1 nm. [astropy.units.format.utils]\n"
     ]
    }
   ],
   "source": [
    "cr_utils.modify_LP2_1dx_calib(rdx_path+calib_folder)"
   ]
  },
  {
   "cell_type": "markdown",
   "metadata": {},
   "source": [
    "----"
   ]
  },
  {
   "cell_type": "markdown",
   "metadata": {},
   "source": [
    "## Run calcos"
   ]
  },
  {
   "cell_type": "markdown",
   "metadata": {
    "collapsed": true
   },
   "source": [
    "### Launch pyraf\n",
    "    cd ureka\n",
    "    xgterm (or xterm)\n",
    "    export lref=/home/marijana/ReductionCOS/calibfilesmast/\n",
    "    # Working in xgterm window\n",
    "    ur_setup\n",
    "    mkiraf #?\n",
    "    pyraf"
   ]
  },
  {
   "cell_type": "markdown",
   "metadata": {},
   "source": [
    "### Execute\n",
    "    cd folder_with_data  (e.g. LCYA01010)\n",
    "    stsdas\n",
    "    hst_calib\n",
    "    hstcos\n",
    "    #\n",
    "    calcos [dataset prefix]_asn.fits (e.g. calcos lcya01010_asn.fits)"
   ]
  },
  {
   "cell_type": "markdown",
   "metadata": {
    "collapsed": true
   },
   "source": [
    "#### Crashing and rerunning\n",
    "    If you have to rerun, remove the corrtag and .tra files"
   ]
  },
  {
   "cell_type": "markdown",
   "metadata": {},
   "source": [
    "----"
   ]
  },
  {
   "cell_type": "markdown",
   "metadata": {},
   "source": [
    "## Coadd corrtag files"
   ]
  },
  {
   "cell_type": "code",
   "execution_count": 3,
   "metadata": {
    "collapsed": false
   },
   "outputs": [],
   "source": [
    "corrtag_files_a = glob.glob(rdx_path+science_folder + '*_corrtag_a.fits')\n",
    "corrtag_files_b = glob.glob(rdx_path+science_folder + '*_corrtag_b.fits')"
   ]
  },
  {
   "cell_type": "code",
   "execution_count": 4,
   "metadata": {
    "collapsed": false
   },
   "outputs": [
    {
     "data": {
      "text/plain": [
       "['/home/marijana/ReductionCOS/LCYA01010/lcya01ggq_corrtag_a.fits',\n",
       " '/home/marijana/ReductionCOS/LCYA01010/lcya01g0q_corrtag_a.fits',\n",
       " '/home/marijana/ReductionCOS/LCYA01010/lcya01fyq_corrtag_a.fits',\n",
       " '/home/marijana/ReductionCOS/LCYA01010/lcya01gjq_corrtag_a.fits']"
      ]
     },
     "execution_count": 4,
     "metadata": {},
     "output_type": "execute_result"
    }
   ],
   "source": [
    "corrtag_files_a"
   ]
  },
  {
   "cell_type": "code",
   "execution_count": 6,
   "metadata": {
    "collapsed": false
   },
   "outputs": [
    {
     "name": "stdout",
     "output_type": "stream",
     "text": [
      "Wrote outfile /home/marijana/ReductionCOS/LCYA01010/lcya01010_coaddcorr_a.fits\n",
      "Wrote outfile /home/marijana/ReductionCOS/LCYA01010/lcya01010_coaddcorr_b.fits\n"
     ]
    }
   ],
   "source": [
    "_ = cr_utils.coadd_bintables(corrtag_files_a, outfile=rdx_path+science_folder+root_out+'_coaddcorr_a.fits')\n",
    "_ = cr_utils.coadd_bintables(corrtag_files_b, outfile=rdx_path+science_folder+root_out+'_coaddcorr_b.fits')"
   ]
  },
  {
   "cell_type": "markdown",
   "metadata": {},
   "source": [
    "## Traces"
   ]
  },
  {
   "cell_type": "code",
   "execution_count": 10,
   "metadata": {
    "collapsed": false
   },
   "outputs": [
    {
     "name": "stdout",
     "output_type": "stream",
     "text": [
      "Updated trace for segment=FUVA in /home/marijana/ReductionCOS/calibfilesmast/x6q17586l_1dx.fits\n",
      "Updated trace for segment=FUVB in /home/marijana/ReductionCOS/calibfilesmast/x6q17586l_1dx.fits\n"
     ]
    }
   ],
   "source": [
    "reload(cr_trace)\n",
    "traces_a=cr_trace.traces(rdx_path+science_folder+root_out+'_coaddcorr_a.fits', rdx_path+calib_folder, 'FUVA', clobber=True)\n",
    "traces_b=cr_trace.traces(rdx_path+science_folder+root_out+'_coaddcorr_b.fits', rdx_path+calib_folder, 'FUVB', clobber=True)"
   ]
  },
  {
   "cell_type": "code",
   "execution_count": null,
   "metadata": {
    "collapsed": true
   },
   "outputs": [],
   "source": []
  }
 ],
 "metadata": {
  "anaconda-cloud": {},
  "kernelspec": {
   "display_name": "Python 2",
   "language": "python",
   "name": "python2"
  },
  "language_info": {
   "codemirror_mode": {
    "name": "ipython",
    "version": 2
   },
   "file_extension": ".py",
   "mimetype": "text/x-python",
   "name": "python",
   "nbconvert_exporter": "python",
   "pygments_lexer": "ipython2",
   "version": "2.7.11"
  }
 },
 "nbformat": 4,
 "nbformat_minor": 0
}
