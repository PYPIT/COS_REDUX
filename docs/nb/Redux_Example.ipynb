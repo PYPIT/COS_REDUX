{
 "cells": [
  {
   "cell_type": "markdown",
   "metadata": {},
   "source": [
    "# Work through the reduction of a single dataset"
   ]
  },
  {
   "cell_type": "code",
   "execution_count": 7,
   "metadata": {
    "collapsed": true
   },
   "outputs": [],
   "source": [
    "# imports\n",
    "import os\n",
    "\n",
    "from cosredux import utils "
   ]
  },
  {
   "cell_type": "markdown",
   "metadata": {},
   "source": [
    "## Setup files\n",
    "    Copy files from Dropbox to local, working folder\n",
    "    cd 'working_folder'\n",
    "    # Darks, if needed\n",
    "    cp -rp ~Dropbox/COS-LRG/darksall .\n",
    "    # Calibs, as needed\n",
    "    cp -rp ~Dropbox/COS-LRG/tests/calibs .\n",
    "    # Subset of the raw and object calibration files\n",
    "    mkdir LCYA010101\n",
    "    cd LCYA010101\n",
    "    cp -rp ~Dropbox/COS-LRG/LCYA01010/*rawtag* .\n",
    "    cp -rp ~Dropbox/COS-LRG/LCYA01010/lcya01010_asn.fits .\n",
    "    cp -rp ~Dropbox/COS-LRG/LCYA01010/lcya01010_trl.fits .\n",
    "    cp -rp ~Dropbox/COS-LRG/LCYA01010/lcya01010_j*.fits ."
   ]
  },
  {
   "cell_type": "code",
   "execution_count": 15,
   "metadata": {
    "collapsed": true
   },
   "outputs": [],
   "source": [
    "rdx_path = '/Users/xavier/HST/COS/LRG_Redux/'\n",
    "science_folder = 'LCYA010101/'\n",
    "dark_folder = 'darks/'\n",
    "calib_folder = 'calibs/'"
   ]
  },
  {
   "cell_type": "markdown",
   "metadata": {},
   "source": [
    "## Customize for calcos\n",
    "    Science frames\n",
    "    LP2 calib file"
   ]
  },
  {
   "cell_type": "markdown",
   "metadata": {},
   "source": [
    "### Science frames"
   ]
  },
  {
   "cell_type": "code",
   "execution_count": 16,
   "metadata": {
    "collapsed": false
   },
   "outputs": [
    {
     "name": "stdout",
     "output_type": "stream",
     "text": [
      "Modifying header cards for rawtag file: /Users/xavier/HST/COS/LRG_Redux/LCYA010101/lcya01fyq_rawtag_a.fits\n",
      "Modifying header cards for rawtag file: /Users/xavier/HST/COS/LRG_Redux/LCYA010101/lcya01fyq_rawtag_b.fits\n",
      "Modifying header cards for rawtag file: /Users/xavier/HST/COS/LRG_Redux/LCYA010101/lcya01g0q_rawtag_a.fits\n",
      "Modifying header cards for rawtag file: /Users/xavier/HST/COS/LRG_Redux/LCYA010101/lcya01g0q_rawtag_b.fits\n",
      "Modifying header cards for rawtag file: /Users/xavier/HST/COS/LRG_Redux/LCYA010101/lcya01ggq_rawtag_a.fits\n",
      "Modifying header cards for rawtag file: /Users/xavier/HST/COS/LRG_Redux/LCYA010101/lcya01ggq_rawtag_b.fits\n",
      "Modifying header cards for rawtag file: /Users/xavier/HST/COS/LRG_Redux/LCYA010101/lcya01gjq_rawtag_a.fits\n",
      "Modifying header cards for rawtag file: /Users/xavier/HST/COS/LRG_Redux/LCYA010101/lcya01gjq_rawtag_b.fits\n"
     ]
    }
   ],
   "source": [
    "utils.modify_rawtag_for_calcos(rdx_path+science_folder)"
   ]
  },
  {
   "cell_type": "markdown",
   "metadata": {},
   "source": [
    "### Calibs -- May not need to repeat this (i.e. if done before)"
   ]
  },
  {
   "cell_type": "code",
   "execution_count": 18,
   "metadata": {
    "collapsed": false
   },
   "outputs": [],
   "source": [
    "utils.modify_LP2_1dx_calib(rdx_path+calib_folder)"
   ]
  },
  {
   "cell_type": "markdown",
   "metadata": {},
   "source": [
    "----"
   ]
  },
  {
   "cell_type": "markdown",
   "metadata": {},
   "source": [
    "## Run calcos\n",
    "    Launch pyraf"
   ]
  },
  {
   "cell_type": "code",
   "execution_count": null,
   "metadata": {
    "collapsed": true
   },
   "outputs": [],
   "source": []
  }
 ],
 "metadata": {
  "kernelspec": {
   "display_name": "Python 2",
   "language": "python",
   "name": "python2"
  },
  "language_info": {
   "codemirror_mode": {
    "name": "ipython",
    "version": 2
   },
   "file_extension": ".py",
   "mimetype": "text/x-python",
   "name": "python",
   "nbconvert_exporter": "python",
   "pygments_lexer": "ipython2",
   "version": "2.7.11"
  }
 },
 "nbformat": 4,
 "nbformat_minor": 0
}
