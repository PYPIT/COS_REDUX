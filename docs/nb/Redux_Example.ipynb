{
 "cells": [
  {
   "cell_type": "markdown",
   "metadata": {},
   "source": [
    "# Work through the reduction of a single dataset"
   ]
  },
  {
   "cell_type": "code",
   "execution_count": 1,
   "metadata": {
    "collapsed": false
   },
   "outputs": [],
   "source": [
    "# imports\n",
    "import os\n",
    "import glob\n",
    "import pdb\n",
    "#from imp import reload\n",
    "#from importlib import reload\n",
    "\n",
    "from astropy.io import fits\n",
    "\n",
    "from cosredux import utils as cr_utils\n",
    "from cosredux import trace as cr_trace\n",
    "from cosredux import darks as cr_darks\n",
    "from cosredux import io as cr_io\n",
    "from cosredux import science as cr_science"
   ]
  },
  {
   "cell_type": "code",
   "execution_count": null,
   "metadata": {
    "collapsed": true
   },
   "outputs": [],
   "source": [
    "# python setup.py develop"
   ]
  },
  {
   "cell_type": "markdown",
   "metadata": {},
   "source": [
    "## Setup files\n",
    "    Copy files from Dropbox to local, working folder\n",
    "    cd 'working_folder'\n",
    "    # Darks, if needed\n",
    "    cp -rp ~/Dropbox/COS-LRG/darksall .\n",
    "    # Calibs, as needed\n",
    "    cp -rp ~/Dropbox/COS-LRG/calibfilesmast .\n",
    "    # Subset of the raw and object calibration files\n",
    "    mkdir LCYA01010\n",
    "    cd LCYA01010\n",
    "    cp -rp ~/Dropbox/COS-LRG/LCYA01010/*rawtag* .\n",
    "    cp -rp ~/Dropbox/COS-LRG/LCYA01010/lcya01010_asn.fits .\n",
    "    cp -rp ~/Dropbox/COS-LRG/LCYA01010/lcya01010_trl.fits .\n",
    "    cp -rp ~/Dropbox/COS-LRG/LCYA01010/lcya01010_j*.fits ."
   ]
  },
  {
   "cell_type": "code",
   "execution_count": 2,
   "metadata": {
    "collapsed": true
   },
   "outputs": [],
   "source": [
    "rdx_path = '/Users/xavier/HST/COS/LRG_Redux/'\n",
    "#rdx_path = '/home/marijana/ReductionCOS/'\n",
    "science_folder = 'LCYA01010/'\n",
    "dark_folder = 'darksall/'\n",
    "#calib_folder = 'calibfilesmast/'\n",
    "calib_folder = 'calibs/'\n",
    "root_out = 'lcya01010'"
   ]
  },
  {
   "cell_type": "code",
   "execution_count": 3,
   "metadata": {
    "collapsed": true
   },
   "outputs": [],
   "source": [
    "# Default values\n",
    "defaults = {}\n",
    "defaults['pha_mnx'] = (2,15)\n",
    "defaults['apert'] = 25.\n",
    "defaults['ndays'] = 90."
   ]
  },
  {
   "cell_type": "markdown",
   "metadata": {},
   "source": [
    "## Customize for calcos\n",
    "    Science frames\n",
    "    LP2 calib file"
   ]
  },
  {
   "cell_type": "markdown",
   "metadata": {},
   "source": [
    "### Science frames"
   ]
  },
  {
   "cell_type": "code",
   "execution_count": 3,
   "metadata": {
    "collapsed": false
   },
   "outputs": [
    {
     "name": "stdout",
     "output_type": "stream",
     "text": [
      "Modifying header cards for rawtag file: /home/marijana/ReductionCOS/LCYA01010/lcya01ggq_rawtag_a.fits\n",
      "Modifying header cards for rawtag file: /home/marijana/ReductionCOS/LCYA01010/lcya01fyq_rawtag_a.fits\n",
      "Modifying header cards for rawtag file: /home/marijana/ReductionCOS/LCYA01010/lcya01ggq_rawtag_b.fits\n",
      "Modifying header cards for rawtag file: /home/marijana/ReductionCOS/LCYA01010/lcya01g0q_rawtag_b.fits\n",
      "Modifying header cards for rawtag file: /home/marijana/ReductionCOS/LCYA01010/lcya01gjq_rawtag_a.fits\n",
      "Modifying header cards for rawtag file: /home/marijana/ReductionCOS/LCYA01010/lcya01fyq_rawtag_b.fits\n",
      "Modifying header cards for rawtag file: /home/marijana/ReductionCOS/LCYA01010/lcya01gjq_rawtag_b.fits\n",
      "Modifying header cards for rawtag file: /home/marijana/ReductionCOS/LCYA01010/lcya01g0q_rawtag_a.fits\n"
     ]
    }
   ],
   "source": [
    "cr_utils.modify_rawtag_for_calcos(rdx_path+science_folder)"
   ]
  },
  {
   "cell_type": "markdown",
   "metadata": {},
   "source": [
    "### Calibs -- May not need to repeat this (i.e. if done before)"
   ]
  },
  {
   "cell_type": "code",
   "execution_count": 4,
   "metadata": {
    "collapsed": false
   },
   "outputs": [
    {
     "name": "stderr",
     "output_type": "stream",
     "text": [
      "WARNING: UnitsWarning: The unit 'angstrom' has been deprecated in the FITS standard. Suggested: 10**-1 nm. [astropy.units.format.utils]\n"
     ]
    }
   ],
   "source": [
    "cr_utils.modify_LP2_1dx_calib(rdx_path+calib_folder)"
   ]
  },
  {
   "cell_type": "markdown",
   "metadata": {},
   "source": [
    "----"
   ]
  },
  {
   "cell_type": "markdown",
   "metadata": {},
   "source": [
    "## Run calcos"
   ]
  },
  {
   "cell_type": "markdown",
   "metadata": {
    "collapsed": true
   },
   "source": [
    "### Launch pyraf\n",
    "    cd ureka\n",
    "    xgterm (or xterm)\n",
    "    export lref=/home/marijana/ReductionCOS/calibfilesmast/\n",
    "    # Working in xgterm window\n",
    "    ur_setup\n",
    "    mkiraf #?\n",
    "    pyraf"
   ]
  },
  {
   "cell_type": "markdown",
   "metadata": {},
   "source": [
    "### Execute\n",
    "    cd folder_with_data  (e.g. LCYA01010)\n",
    "    stsdas\n",
    "    hst_calib\n",
    "    hstcos\n",
    "    #\n",
    "    calcos [dataset prefix]_asn.fits (e.g. calcos lcya01010_asn.fits)"
   ]
  },
  {
   "cell_type": "markdown",
   "metadata": {
    "collapsed": true
   },
   "source": [
    "#### Crashing and rerunning\n",
    "    If you have to rerun, remove the corrtag and .tra files"
   ]
  },
  {
   "cell_type": "markdown",
   "metadata": {},
   "source": [
    "----"
   ]
  },
  {
   "cell_type": "markdown",
   "metadata": {},
   "source": [
    "## Coadd corrtag files"
   ]
  },
  {
   "cell_type": "code",
   "execution_count": 3,
   "metadata": {
    "collapsed": false
   },
   "outputs": [],
   "source": [
    "corrtag_files_a = glob.glob(rdx_path+science_folder + '*_corrtag_a.fits')\n",
    "corrtag_files_b = glob.glob(rdx_path+science_folder + '*_corrtag_b.fits')"
   ]
  },
  {
   "cell_type": "code",
   "execution_count": 4,
   "metadata": {
    "collapsed": false
   },
   "outputs": [
    {
     "data": {
      "text/plain": [
       "['/Users/xavier/HST/COS/LRG_Redux/LCYA01010/lcya01fyq_corrtag_a.fits',\n",
       " '/Users/xavier/HST/COS/LRG_Redux/LCYA01010/lcya01g0q_corrtag_a.fits',\n",
       " '/Users/xavier/HST/COS/LRG_Redux/LCYA01010/lcya01ggq_corrtag_a.fits',\n",
       " '/Users/xavier/HST/COS/LRG_Redux/LCYA01010/lcya01gjq_corrtag_a.fits']"
      ]
     },
     "execution_count": 4,
     "metadata": {},
     "output_type": "execute_result"
    }
   ],
   "source": [
    "corrtag_files_a"
   ]
  },
  {
   "cell_type": "code",
   "execution_count": 24,
   "metadata": {
    "collapsed": false
   },
   "outputs": [
    {
     "name": "stdout",
     "output_type": "stream",
     "text": [
      "Wrote outfile /Users/xavier/HST/COS/LRG_Redux/LCYA01010/lcya01010_coaddcorr_woPHA_a.fits\n",
      "Wrote outfile /Users/xavier/HST/COS/LRG_Redux/LCYA01010/lcya01010_coaddcorr_woPHA_b.fits\n"
     ]
    }
   ],
   "source": [
    "_ = cr_utils.coadd_bintables(corrtag_files_a, outfile=rdx_path+science_folder+root_out+'_coaddcorr_woPHA_a.fits')\n",
    "_ = cr_utils.coadd_bintables(corrtag_files_b, outfile=rdx_path+science_folder+root_out+'_coaddcorr_woPHA_b.fits')"
   ]
  },
  {
   "cell_type": "markdown",
   "metadata": {},
   "source": [
    "## Traces"
   ]
  },
  {
   "cell_type": "code",
   "execution_count": 25,
   "metadata": {
    "collapsed": false
   },
   "outputs": [
    {
     "name": "stdout",
     "output_type": "stream",
     "text": [
      "Updated trace for segment=FUVA in /Users/xavier/HST/COS/LRG_Redux/calibs/x6q17586l_1dx.fits\n",
      "Wrote Traces to {:s} /Users/xavier/HST/COS/LRG_Redux/LCYA01010/lcya01010_coaddcorr_woPHA_a_traces.json\n",
      "Updated trace for segment=FUVB in /Users/xavier/HST/COS/LRG_Redux/calibs/x6q17586l_1dx.fits\n",
      "Wrote Traces to {:s} /Users/xavier/HST/COS/LRG_Redux/LCYA01010/lcya01010_coaddcorr_woPHA_b_traces.json\n"
     ]
    }
   ],
   "source": [
    "reload(cr_trace)\n",
    "traces_a=cr_trace.traces(rdx_path+science_folder+root_out+'_coaddcorr_woPHA_a.fits', rdx_path+calib_folder, 'FUVA', clobber=True)\n",
    "traces_b=cr_trace.traces(rdx_path+science_folder+root_out+'_coaddcorr_woPHA_b.fits', rdx_path+calib_folder, 'FUVB', clobber=True)"
   ]
  },
  {
   "cell_type": "markdown",
   "metadata": {
    "collapsed": true
   },
   "source": [
    "## Ignoring Sun and Limb"
   ]
  },
  {
   "cell_type": "markdown",
   "metadata": {},
   "source": [
    "## Get HVLEVELs"
   ]
  },
  {
   "cell_type": "code",
   "execution_count": 18,
   "metadata": {
    "collapsed": false
   },
   "outputs": [
    {
     "name": "stdout",
     "output_type": "stream",
     "text": [
      "HVA=167 and HVB=169 in file /home/marijana/ReductionCOS/LCYA01010/lcya01ggq_corrtag_a.fits\n",
      "HVA=167 and HVB=169 in file /home/marijana/ReductionCOS/LCYA01010/lcya01g0q_corrtag_a.fits\n",
      "HVA=167 and HVB=169 in file /home/marijana/ReductionCOS/LCYA01010/lcya01fyq_corrtag_a.fits\n",
      "HVA=167 and HVB=169 in file /home/marijana/ReductionCOS/LCYA01010/lcya01gjq_corrtag_a.fits\n",
      "HVA=167 and HVB=169 in file /home/marijana/ReductionCOS/LCYA01010/lcya01gjq_corrtag_b.fits\n",
      "HVA=167 and HVB=169 in file /home/marijana/ReductionCOS/LCYA01010/lcya01fyq_corrtag_b.fits\n",
      "HVA=167 and HVB=169 in file /home/marijana/ReductionCOS/LCYA01010/lcya01g0q_corrtag_b.fits\n",
      "HVA=167 and HVB=169 in file /home/marijana/ReductionCOS/LCYA01010/lcya01ggq_corrtag_b.fits\n"
     ]
    }
   ],
   "source": [
    "reload(cr_utils)\n",
    "hva_a, hvb_a = cr_utils.get_hvlevels(corrtag_files_a)\n",
    "hva_b, hvb_b = cr_utils.get_hvlevels(corrtag_files_b)"
   ]
  },
  {
   "cell_type": "markdown",
   "metadata": {},
   "source": [
    "## Change PHA"
   ]
  },
  {
   "cell_type": "markdown",
   "metadata": {},
   "source": [
    "#### Examine PHA values near the trace of a single exposure  (OPTIONAL)"
   ]
  },
  {
   "cell_type": "code",
   "execution_count": 91,
   "metadata": {
    "collapsed": false
   },
   "outputs": [],
   "source": [
    "reload(cr_science)\n",
    "ex_region = cr_science.set_extraction_region(traces_a[0], 'FUVA', corrtag_files_a[0], check=True)"
   ]
  },
  {
   "cell_type": "code",
   "execution_count": 94,
   "metadata": {
    "collapsed": false
   },
   "outputs": [],
   "source": [
    "reload(cr_darks)\n",
    "pha_values_a, _, _ = cr_darks.get_pha_values_science(ex_region, corrtag_files_a[0], background=False)"
   ]
  },
  {
   "cell_type": "code",
   "execution_count": 95,
   "metadata": {
    "collapsed": true
   },
   "outputs": [],
   "source": [
    "from xastropy.xutils import xdebug as xdb\n",
    "xdb.xhist(pha_values_a)"
   ]
  },
  {
   "cell_type": "markdown",
   "metadata": {},
   "source": [
    "#### Edit"
   ]
  },
  {
   "cell_type": "code",
   "execution_count": 97,
   "metadata": {
    "collapsed": true
   },
   "outputs": [],
   "source": [
    "# Reset pha_mnx above if you wish"
   ]
  },
  {
   "cell_type": "code",
   "execution_count": 23,
   "metadata": {
    "collapsed": false
   },
   "outputs": [
    {
     "name": "stdout",
     "output_type": "stream",
     "text": [
      "Updating PHA values in /home/marijana/ReductionCOS/calibfilesmast/wc318317l_pha.fits\n"
     ]
    }
   ],
   "source": [
    "reload(cr_utils)\n",
    "cr_utils.change_pha(rdx_path+calib_folder, low=defaults['pha_mnx'][0], up=defaults['pha_mnx'][1])"
   ]
  },
  {
   "cell_type": "markdown",
   "metadata": {},
   "source": [
    "## Modify PHACORR"
   ]
  },
  {
   "cell_type": "code",
   "execution_count": 25,
   "metadata": {
    "collapsed": false
   },
   "outputs": [
    {
     "name": "stdout",
     "output_type": "stream",
     "text": [
      "Modifying header cards for rawtag file: /home/marijana/ReductionCOS/LCYA01010/lcya01ggq_rawtag_a.fits\n",
      "Modifying header cards for rawtag file: /home/marijana/ReductionCOS/LCYA01010/lcya01fyq_rawtag_a.fits\n",
      "Modifying header cards for rawtag file: /home/marijana/ReductionCOS/LCYA01010/lcya01ggq_rawtag_b.fits\n",
      "Modifying header cards for rawtag file: /home/marijana/ReductionCOS/LCYA01010/lcya01g0q_rawtag_b.fits\n",
      "Modifying header cards for rawtag file: /home/marijana/ReductionCOS/LCYA01010/lcya01gjq_rawtag_a.fits\n",
      "Modifying header cards for rawtag file: /home/marijana/ReductionCOS/LCYA01010/lcya01fyq_rawtag_b.fits\n",
      "Modifying header cards for rawtag file: /home/marijana/ReductionCOS/LCYA01010/lcya01gjq_rawtag_b.fits\n",
      "Modifying header cards for rawtag file: /home/marijana/ReductionCOS/LCYA01010/lcya01g0q_rawtag_a.fits\n"
     ]
    }
   ],
   "source": [
    "reload(cr_utils)\n",
    "cr_utils.modify_phacorr(rdx_path+science_folder)"
   ]
  },
  {
   "cell_type": "markdown",
   "metadata": {},
   "source": [
    "## Clean for CALCOS"
   ]
  },
  {
   "cell_type": "code",
   "execution_count": 9,
   "metadata": {
    "collapsed": false
   },
   "outputs": [],
   "source": [
    "reload(cr_utils)\n",
    "cr_utils.clean_for_calcos_phafiltering(rdx_path+science_folder)"
   ]
  },
  {
   "cell_type": "markdown",
   "metadata": {},
   "source": [
    "## Run Calcos as above -- with PHA restricted"
   ]
  },
  {
   "cell_type": "markdown",
   "metadata": {},
   "source": [
    "### Coadd new PHA frames"
   ]
  },
  {
   "cell_type": "code",
   "execution_count": 4,
   "metadata": {
    "collapsed": false
   },
   "outputs": [],
   "source": [
    "corrtag_files_a = glob.glob(rdx_path+science_folder + '*_corrtag_a.fits')\n",
    "corrtag_files_b = glob.glob(rdx_path+science_folder + '*_corrtag_b.fits')"
   ]
  },
  {
   "cell_type": "code",
   "execution_count": 5,
   "metadata": {
    "collapsed": false
   },
   "outputs": [
    {
     "data": {
      "text/plain": [
       "['/Users/xavier/HST/COS/LRG_Redux/LCYA01010/lcya01fyq_corrtag_a.fits',\n",
       " '/Users/xavier/HST/COS/LRG_Redux/LCYA01010/lcya01g0q_corrtag_a.fits',\n",
       " '/Users/xavier/HST/COS/LRG_Redux/LCYA01010/lcya01ggq_corrtag_a.fits',\n",
       " '/Users/xavier/HST/COS/LRG_Redux/LCYA01010/lcya01gjq_corrtag_a.fits']"
      ]
     },
     "execution_count": 5,
     "metadata": {},
     "output_type": "execute_result"
    }
   ],
   "source": [
    "corrtag_files_a"
   ]
  },
  {
   "cell_type": "code",
   "execution_count": 24,
   "metadata": {
    "collapsed": false
   },
   "outputs": [
    {
     "name": "stdout",
     "output_type": "stream",
     "text": [
      "Wrote outfile /Users/xavier/HST/COS/LRG_Redux/LCYA01010/lcya01010_coaddcorr_withPHA_a.fits\n",
      "Wrote outfile /Users/xavier/HST/COS/LRG_Redux/LCYA01010/lcya01010_coaddcorr_withPHA_b.fits\n"
     ]
    }
   ],
   "source": [
    "_ = cr_utils.coadd_bintables(corrtag_files_a, outfile=rdx_path+science_folder+root_out+'_coaddcorr_withPHA_a.fits')\n",
    "_ = cr_utils.coadd_bintables(corrtag_files_b, outfile=rdx_path+science_folder+root_out+'_coaddcorr_withPHA_b.fits')"
   ]
  },
  {
   "cell_type": "markdown",
   "metadata": {},
   "source": [
    "## Reduce Darks \n",
    "\n",
    "### Find Darks"
   ]
  },
  {
   "cell_type": "code",
   "execution_count": 23,
   "metadata": {
    "collapsed": false
   },
   "outputs": [
    {
     "name": "stdout",
     "output_type": "stream",
     "text": [
      "HVA=167 and HVB=169 in file /Users/xavier/HST/COS/LRG_Redux/LCYA01010/lcya01fyq_corrtag_a.fits\n",
      "Copying dark frames into sub folder: darks_a_167\n",
      "Editing dark frame headers\n",
      "Wrote calcos script: /Users/xavier/HST/COS/LRG_Redux/LCYA01010/darks_a_167/darks_a_167.cl\n"
     ]
    }
   ],
   "source": [
    "reload(cr_darks)\n",
    "subf_a = cr_darks.setup_for_calcos(rdx_path+dark_folder, corrtag_files_a[0], 'FUVA')"
   ]
  },
  {
   "cell_type": "markdown",
   "metadata": {},
   "source": [
    "### Run calcos\n",
    "    In new sub-folder for darks\n",
    "    Use the script"
   ]
  },
  {
   "cell_type": "markdown",
   "metadata": {},
   "source": [
    "### Clean unnecessary (large) files"
   ]
  },
  {
   "cell_type": "code",
   "execution_count": 27,
   "metadata": {
    "collapsed": false
   },
   "outputs": [],
   "source": [
    "reload(cr_darks)\n",
    "cr_darks.clean_after_calcos(rdx_path+science_folder+subf_a)"
   ]
  },
  {
   "cell_type": "markdown",
   "metadata": {
    "collapsed": true
   },
   "source": [
    "## Measure Background"
   ]
  },
  {
   "cell_type": "markdown",
   "metadata": {},
   "source": [
    "### Set background region\n",
    "    Set chk=True to show plots\n",
    "    Iterate as needed"
   ]
  },
  {
   "cell_type": "code",
   "execution_count": 31,
   "metadata": {
    "collapsed": false
   },
   "outputs": [],
   "source": [
    "# Read traces (if needed)\n",
    "traces_a = cr_io.read_traces(rdx_path+science_folder+root_out+'_coaddcorr_woPHA_a.fits')\n",
    "traces_b = cr_io.read_traces(rdx_path+science_folder+root_out+'_coaddcorr_woPHA_b.fits')"
   ]
  },
  {
   "cell_type": "code",
   "execution_count": 32,
   "metadata": {
    "collapsed": false
   },
   "outputs": [
    {
     "data": {
      "text/plain": [
       "({u'lower': (1200.0, 2445.5107, 431.1351318359375, 381.1351318359375),\n",
       "  u'upper': (1200.0, 2445.5107, 491.1351318359375, 541.1351318359375)},\n",
       " {u'lower': (50.0, 1209.924, 490.27716064453125, 440.27716064453125)})"
      ]
     },
     "execution_count": 32,
     "metadata": {},
     "output_type": "execute_result"
    }
   ],
   "source": [
    "reload(cr_darks)\n",
    "chk = True\n",
    "bg_region_a = cr_darks.set_background_region(traces_a[0], 'FUVA', rdx_path+science_folder+root_out+'_coaddcorr_woPHA_a.fits', check=chk)\n",
    "bg_region_b = cr_darks.set_background_region(traces_b[0], 'FUVB', rdx_path+science_folder+root_out+'_coaddcorr_woPHA_b.fits', check=chk)\n",
    "bg_region_a, bg_region_b"
   ]
  },
  {
   "cell_type": "markdown",
   "metadata": {},
   "source": [
    "### Loop on Exposures without PHA\n",
    "    Will generate background spectra, one per exposure per segment\n",
    "    Below we only do FUVA"
   ]
  },
  {
   "cell_type": "code",
   "execution_count": 28,
   "metadata": {
    "collapsed": false
   },
   "outputs": [
    {
     "data": {
      "text/plain": [
       "['/Users/xavier/HST/COS/LRG_Redux/LCYA01010/lcya01fyq_corrtag_woPHA_a.fits',\n",
       " '/Users/xavier/HST/COS/LRG_Redux/LCYA01010/lcya01g0q_corrtag_woPHA_a.fits',\n",
       " '/Users/xavier/HST/COS/LRG_Redux/LCYA01010/lcya01ggq_corrtag_woPHA_a.fits',\n",
       " '/Users/xavier/HST/COS/LRG_Redux/LCYA01010/lcya01gjq_corrtag_woPHA_a.fits']"
      ]
     },
     "execution_count": 28,
     "metadata": {},
     "output_type": "execute_result"
    }
   ],
   "source": [
    "corrtag_woPHA_a = glob.glob(rdx_path+science_folder + '*_corrtag_woPHA_a.fits')\n",
    "corrtag_woPHA_a"
   ]
  },
  {
   "cell_type": "code",
   "execution_count": 33,
   "metadata": {
    "collapsed": false
   },
   "outputs": [
    {
     "name": "stdout",
     "output_type": "stream",
     "text": [
      "HVA=167 and HVB=169 in file /Users/xavier/HST/COS/LRG_Redux/LCYA01010/lcya01fyq_corrtag_woPHA_a.fits\n",
      "HVA=167 and HVB=169 in file /Users/xavier/HST/COS/LRG_Redux/LCYA01010/lcya01g0q_corrtag_woPHA_a.fits\n",
      "HVA=167 and HVB=169 in file /Users/xavier/HST/COS/LRG_Redux/LCYA01010/lcya01ggq_corrtag_woPHA_a.fits\n",
      "HVA=167 and HVB=169 in file /Users/xavier/HST/COS/LRG_Redux/LCYA01010/lcya01gjq_corrtag_woPHA_a.fits\n",
      "Working on exposure: /Users/xavier/HST/COS/LRG_Redux/LCYA01010/lcya01fyq_corrtag_woPHA_a.fits\n"
     ]
    },
    {
     "name": "stderr",
     "output_type": "stream",
     "text": [
      "WARNING: hdu= was not specified but multiple tables are present, reading in first available table (hdu=1) [astropy.io.fits.connect]\n",
      "WARNING: UnitsWarning: The unit 'angstrom' has been deprecated in the FITS standard. Suggested: 10**-1 nm. [astropy.units.format.utils]\n"
     ]
    },
    {
     "name": "stdout",
     "output_type": "stream",
     "text": [
      "Matching darks to the exposure\n",
      "We have 14 darks to use\n"
     ]
    },
    {
     "name": "stderr",
     "output_type": "stream",
     "text": [
      "WARNING: AstropyDeprecationWarning: \"clobber\" was deprecated in version 1.3 and will be removed in a future version. Use argument \"overwrite\" instead. [astropy.utils.decorators]\n",
      "WARNING: AstropyDeprecationWarning: Accessing an HDU after an HDUList is closed, where\n",
      "that HDU was no read while the HDUList was open\n",
      "is deprecated.  That is, you did something like:\n",
      "\n",
      "    >>> hdulist.close()\n",
      "    >>> print(hdulist[2].header)\n",
      "\n",
      "even though hdulist[2] had not been read yet.  Instead\n",
      "do:\n",
      "\n",
      "    >>> print(hdulist[2].header)\n",
      "    >>> hdulist.close()\n",
      "\n",
      "or open the file with lazy_load_hdus=False to read all\n",
      "the HDUs into memory immediately upon opening the file.\n",
      " [astropy.io.fits.hdu.hdulist]\n"
     ]
    },
    {
     "name": "stdout",
     "output_type": "stream",
     "text": [
      "Wrote outfile /Users/xavier/HST/COS/LRG_Redux/LCYA01010/darks_a_167/lcya01fyq_darks.fits\n",
      "Will use scale factor = 0.079273\n",
      "Extracting..\n",
      "Wrote background spectrum to /Users/xavier/HST/COS/LRG_Redux/LCYA01010/lcya01fyq_a_bkgd.fits\n",
      "Working on exposure: /Users/xavier/HST/COS/LRG_Redux/LCYA01010/lcya01g0q_corrtag_woPHA_a.fits\n",
      "Matching darks to the exposure\n",
      "We have 25 darks to use\n",
      "Wrote outfile /Users/xavier/HST/COS/LRG_Redux/LCYA01010/darks_a_167/lcya01g0q_darks.fits\n",
      "Will use scale factor = 0.0378727\n",
      "Extracting..\n",
      "Wrote background spectrum to /Users/xavier/HST/COS/LRG_Redux/LCYA01010/lcya01g0q_a_bkgd.fits\n",
      "Working on exposure: /Users/xavier/HST/COS/LRG_Redux/LCYA01010/lcya01ggq_corrtag_woPHA_a.fits\n",
      "Matching darks to the exposure\n",
      "We have 31 darks to use\n",
      "Wrote outfile /Users/xavier/HST/COS/LRG_Redux/LCYA01010/darks_a_167/lcya01ggq_darks.fits\n",
      "Will use scale factor = 0.0450641\n",
      "Extracting..\n",
      "Wrote background spectrum to /Users/xavier/HST/COS/LRG_Redux/LCYA01010/lcya01ggq_a_bkgd.fits\n",
      "Working on exposure: /Users/xavier/HST/COS/LRG_Redux/LCYA01010/lcya01gjq_corrtag_woPHA_a.fits\n",
      "Matching darks to the exposure\n",
      "We have 22 darks to use\n",
      "Wrote outfile /Users/xavier/HST/COS/LRG_Redux/LCYA01010/darks_a_167/lcya01gjq_darks.fits\n",
      "Will use scale factor = 0.0571152\n",
      "Extracting..\n",
      "Wrote background spectrum to /Users/xavier/HST/COS/LRG_Redux/LCYA01010/lcya01gjq_a_bkgd.fits\n"
     ]
    }
   ],
   "source": [
    "reload(cr_darks)\n",
    "cr_darks.dark_to_exposures(corrtag_woPHA_a, bg_region_a, traces_a[0], 'FUVA', defaults)"
   ]
  },
  {
   "cell_type": "markdown",
   "metadata": {},
   "source": [
    "### Coadd"
   ]
  },
  {
   "cell_type": "code",
   "execution_count": 69,
   "metadata": {
    "collapsed": true
   },
   "outputs": [],
   "source": [
    "x1d_files = glob.glob(rdx_path+science_folder + '*_x1d.fits')"
   ]
  },
  {
   "cell_type": "code",
   "execution_count": 81,
   "metadata": {
    "collapsed": false
   },
   "outputs": [
    {
     "name": "stdout",
     "output_type": "stream",
     "text": [
      "Wrote /Users/xavier/HST/COS/LRG_Redux/LCYA01010/LCYA01010_coadd.fits\n"
     ]
    }
   ],
   "source": [
    "reload(cr_science)\n",
    "cr_science.coadd_exposures(x1d_files, 'FUVA', rdx_path+science_folder+'LCYA01010_coadd.fits')"
   ]
  },
  {
   "cell_type": "code",
   "execution_count": null,
   "metadata": {
    "collapsed": true
   },
   "outputs": [],
   "source": []
  }
 ],
 "metadata": {
  "anaconda-cloud": {},
  "kernelspec": {
   "display_name": "Python 2",
   "language": "python",
   "name": "python2"
  },
  "language_info": {
   "codemirror_mode": {
    "name": "ipython",
    "version": 2
   },
   "file_extension": ".py",
   "mimetype": "text/x-python",
   "name": "python",
   "nbconvert_exporter": "python",
   "pygments_lexer": "ipython2",
   "version": "2.7.11"
  }
 },
 "nbformat": 4,
 "nbformat_minor": 0
}
