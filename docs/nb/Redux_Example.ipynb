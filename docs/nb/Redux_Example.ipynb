{
 "cells": [
  {
   "cell_type": "markdown",
   "metadata": {},
   "source": [
    "# Work through the reduction of a single dataset"
   ]
  },
  {
   "cell_type": "code",
   "execution_count": 1,
   "metadata": {
    "collapsed": true
   },
   "outputs": [],
   "source": [
    "# imports\n",
    "import os\n",
    "\n",
    "from cosredux import utils "
   ]
  },
  {
   "cell_type": "markdown",
   "metadata": {},
   "source": [
    "## Setup files\n",
    "    Copy files from Dropbox to local, working folder\n",
    "    cd 'working_folder'\n",
    "    # Darks, if needed\n",
    "    cp -rp ~/Dropbox/COS-LRG/darksall .\n",
    "    # Calibs, as needed\n",
    "    cp -rp ~/Dropbox/COS-LRG/calibfilesmast .\n",
    "    # Subset of the raw and object calibration files\n",
    "    mkdir LCYA01010\n",
    "    cd LCYA01010\n",
    "    cp -rp ~/Dropbox/COS-LRG/LCYA01010/*rawtag* .\n",
    "    cp -rp ~/Dropbox/COS-LRG/LCYA01010/lcya01010_asn.fits .\n",
    "    cp -rp ~/Dropbox/COS-LRG/LCYA01010/lcya01010_trl.fits .\n",
    "    cp -rp ~/Dropbox/COS-LRG/LCYA01010/lcya01010_j*.fits ."
   ]
  },
  {
   "cell_type": "code",
   "execution_count": 2,
   "metadata": {
    "collapsed": true
   },
   "outputs": [],
   "source": [
    "#rdx_path = '/Users/xavier/HST/COS/LRG_Redux/'\n",
    "rdx_path = '/home/marijana/ReductionCOS/'\n",
    "science_folder = 'LCYA01010/'\n",
    "dark_folder = 'darks/'\n",
    "calib_folder = 'calibs/'"
   ]
  },
  {
   "cell_type": "markdown",
   "metadata": {},
   "source": [
    "## Customize for calcos\n",
    "    Science frames\n",
    "    LP2 calib file"
   ]
  },
  {
   "cell_type": "markdown",
   "metadata": {},
   "source": [
    "### Science frames"
   ]
  },
  {
   "cell_type": "code",
   "execution_count": 3,
   "metadata": {
    "collapsed": false
   },
   "outputs": [
    {
     "name": "stdout",
     "output_type": "stream",
     "text": [
      "Modifying header cards for rawtag file: /home/marijana/ReductionCOS/LCYA01010/lcya01ggq_rawtag_a.fits\n",
      "Modifying header cards for rawtag file: /home/marijana/ReductionCOS/LCYA01010/lcya01fyq_rawtag_a.fits\n",
      "Modifying header cards for rawtag file: /home/marijana/ReductionCOS/LCYA01010/lcya01ggq_rawtag_b.fits\n",
      "Modifying header cards for rawtag file: /home/marijana/ReductionCOS/LCYA01010/lcya01g0q_rawtag_b.fits\n",
      "Modifying header cards for rawtag file: /home/marijana/ReductionCOS/LCYA01010/lcya01gjq_rawtag_a.fits\n",
      "Modifying header cards for rawtag file: /home/marijana/ReductionCOS/LCYA01010/lcya01fyq_rawtag_b.fits\n",
      "Modifying header cards for rawtag file: /home/marijana/ReductionCOS/LCYA01010/lcya01gjq_rawtag_b.fits\n",
      "Modifying header cards for rawtag file: /home/marijana/ReductionCOS/LCYA01010/lcya01g0q_rawtag_a.fits\n"
     ]
    }
   ],
   "source": [
    "utils.modify_rawtag_for_calcos(rdx_path+science_folder)"
   ]
  },
  {
   "cell_type": "markdown",
   "metadata": {},
   "source": [
    "### Calibs -- May not need to repeat this (i.e. if done before)"
   ]
  },
  {
   "cell_type": "code",
   "execution_count": 4,
   "metadata": {
    "collapsed": false
   },
   "outputs": [
    {
     "name": "stderr",
     "output_type": "stream",
     "text": [
      "WARNING: UnitsWarning: The unit 'angstrom' has been deprecated in the FITS standard. Suggested: 10**-1 nm. [astropy.units.format.utils]\n"
     ]
    }
   ],
   "source": [
    "utils.modify_LP2_1dx_calib(rdx_path+calib_folder)"
   ]
  },
  {
   "cell_type": "markdown",
   "metadata": {},
   "source": [
    "----"
   ]
  },
  {
   "cell_type": "markdown",
   "metadata": {},
   "source": [
    "## Run calcos"
   ]
  },
  {
   "cell_type": "markdown",
   "metadata": {
    "collapsed": true
   },
   "source": [
    "### Launch pyraf\n",
    "    cd ureka\n",
    "    xgterm (or xterm)\n",
    "    export lref=/home/marijana/ReductionCOS/calibfilesmast/\n",
    "    # Working in xgterm window\n",
    "    ur_setup\n",
    "    mkiraf #?\n",
    "    pyraf"
   ]
  },
  {
   "cell_type": "markdown",
   "metadata": {},
   "source": [
    "### Execute\n",
    "    cd folder_with_data  (e.g. LCYA01010)\n",
    "    stsdas\n",
    "    hst_calib\n",
    "    hstcos\n",
    "    #\n",
    "    calcos [dataset prefix]_asn.fits (e.g. calcos lcya01010_asn.fits)"
   ]
  },
  {
   "cell_type": "code",
   "execution_count": null,
   "metadata": {
    "collapsed": true
   },
   "outputs": [],
   "source": []
  }
 ],
 "metadata": {
  "kernelspec": {
   "display_name": "Python [Root]",
   "language": "python",
   "name": "Python [Root]"
  },
  "language_info": {
   "codemirror_mode": {
    "name": "ipython",
    "version": 3
   },
   "file_extension": ".py",
   "mimetype": "text/x-python",
   "name": "python",
   "nbconvert_exporter": "python",
   "pygments_lexer": "ipython3",
   "version": "3.5.2"
  }
 },
 "nbformat": 4,
 "nbformat_minor": 0
}
